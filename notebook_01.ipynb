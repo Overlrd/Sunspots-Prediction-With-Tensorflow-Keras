{
  "cells": [
    {
      "cell_type": "markdown",
      "source": [
        "#TIME SERIES FORECASTING WITH TENSORFLOW\n",
        "\n",
        "This notebook is one of those i wrote as practise for the **Tensorflow Certificate Exam**\n",
        "\n",
        "The Data i used are monthly statements of sunspot from 1749 to 2018 from [Tensorflow Datasets API](https://storage.googleapis.com/tensorflow-1-public/course4/Sunspots.csv).\n",
        "\n",
        "I tried to predict the last month of the year based on the 11 previous months based on the total sunspots mean number and the months.\n",
        "The implementation is fully with Tensorflow except Data Processing.\n",
        "\n",
        "I use three keras models :\n",
        "\n",
        "\n",
        "1.   One fully Dense Neural Network\n",
        "2.   One LSTM-DNN Neural Network\n",
        "3.   One CNN-DNN Neural Network\n",
        "\n"
      ],
      "metadata": {
        "id": "3roPPZjfP8a3"
      },
      "id": "3roPPZjfP8a3"
    },
    {
      "cell_type": "code",
      "execution_count": 1,
      "id": "e76a1130",
      "metadata": {
        "id": "e76a1130"
      },
      "outputs": [],
      "source": [
        "import tensorflow as tf\n",
        "import pandas as pd\n",
        "import numpy as np\n",
        "import matplotlib.pyplot as plt\n",
        "from sklearn.preprocessing import MinMaxScaler\n",
        "from tensorflow.keras import layers"
      ]
    },
    {
      "cell_type": "code",
      "execution_count": 4,
      "id": "b016062b",
      "metadata": {
        "id": "b016062b"
      },
      "outputs": [],
      "source": [
        "def load_data(path='/content/Sunspots.csv', verbose=None):\n",
        "    df = pd.read_csv(path)\n",
        "    df = df.drop(['Unnamed: 0'], axis=1)\n",
        "    if verbose :\n",
        "        df.plot()\n",
        "    return df"
      ]
    },
    {
      "cell_type": "code",
      "execution_count": 5,
      "id": "ab97811d",
      "metadata": {
        "colab": {
          "base_uri": "https://localhost:8080/",
          "height": 265
        },
        "id": "ab97811d",
        "outputId": "889a708e-b2a8-47ad-8cd0-b977e841968c"
      },
      "outputs": [
        {
          "output_type": "display_data",
          "data": {
            "text/plain": [
              "<Figure size 432x288 with 1 Axes>"
            ],
            "image/png": "[encoded data removed]"
          },
          "metadata": {
            "needs_background": "light"
          }
        }
      ],
      "source": [
        "path ='/content/Sunspots.csv'\n",
        "df = load_data(path,verbose=True)"
      ]
    },
    {
      "cell_type": "code",
      "execution_count": 6,
      "id": "23ab2d16",
      "metadata": {
        "colab": {
          "base_uri": "https://localhost:8080/"
        },
        "id": "23ab2d16",
        "outputId": "89e6c64b-49c4-4534-9018-078a86170296"
      },
      "outputs": [
        {
          "output_type": "execute_result",
          "data": {
            "text/plain": [
              "<bound method DataFrame.info of             Date  Monthly Mean Total Sunspot Number\n",
              "0     1749-01-31                               96.7\n",
              "1     1749-02-28                              104.3\n",
              "2     1749-03-31                              116.7\n",
              "3     1749-04-30                               92.8\n",
              "4     1749-05-31                              141.7\n",
              "...          ...                                ...\n",
              "3230  2018-03-31                                2.5\n",
              "3231  2018-04-30                                8.9\n",
              "3232  2018-05-31                               13.2\n",
              "3233  2018-06-30                               15.9\n",
              "3234  2018-07-31                                1.6\n",
              "\n",
              "[3235 rows x 2 columns]>"
            ]
          },
          "metadata": {},
          "execution_count": 6
        }
      ],
      "source": [
        "##Our dataset consist in monthly record of the mean sunspot number \n",
        "##3235 data points from 1749-2018-06-30\n",
        "df.info"
      ]
    },
    {
      "cell_type": "code",
      "execution_count": 7,
      "id": "5cd4f71e",
      "metadata": {
        "id": "5cd4f71e"
      },
      "outputs": [],
      "source": [
        "def make_month_feature(series, concat_to_df=True):\n",
        "    #extract month from 'Date' column\n",
        "    times = series['Date']\n",
        "    months = times.apply(lambda x: x.split('-')[1])\n",
        "    if concat_to_df:\n",
        "        df = pd.concat([series.drop(['Date'], axis=1), months], axis =1)\n",
        "        return df\n",
        "    else:\n",
        "        return months\n"
      ]
    },
    {
      "cell_type": "code",
      "execution_count": 8,
      "id": "65028a1a",
      "metadata": {
        "id": "65028a1a"
      },
      "outputs": [],
      "source": [
        "def scale_min_max(series):\n",
        "    mm = MinMaxScaler()\n",
        "    return mm.fit_transform(series)"
      ]
    },
    {
      "cell_type": "code",
      "execution_count": 9,
      "id": "50245565",
      "metadata": {
        "id": "50245565"
      },
      "outputs": [],
      "source": [
        "def clean_data(series):\n",
        "    series_filled = series.interpolate(method='linear')\n",
        "    return series_filled"
      ]
    },
    {
      "cell_type": "code",
      "execution_count": 10,
      "id": "9997566b",
      "metadata": {
        "id": "9997566b"
      },
      "outputs": [],
      "source": [
        "def split_data(series,train_fraq, test_len=607):\n",
        "    #slice the last 50 years + 7 monts for testing\n",
        "    test_slice = len(series) - test_len\n",
        "    test_data = series[test_slice:]\n",
        "    train_val_data = series[:test_slice]\n",
        "    \n",
        "    #make train and validation\n",
        "    train_size = int(len(train_val_data) * train_fraq)\n",
        "    train_data = train_val_data[:train_size]\n",
        "    valid_data = train_val_data[train_size:]\n",
        "    \n",
        "    return train_data , valid_data, test_data\n",
        "    "
      ]
    },
    {
      "cell_type": "code",
      "execution_count": 11,
      "id": "5af14341",
      "metadata": {
        "id": "5af14341"
      },
      "outputs": [],
      "source": [
        "def windowed_dataset(series, n_past, n_future,batch_size, shuffle_buffer):\n",
        "    window = n_past+n_future\n",
        "    #convert our data to tf.dataset Object\n",
        "    ds = tf.data.Dataset.from_tensor_slices(series)\n",
        "    #windowing the dataset and shift by the prediction lenght\n",
        "    ds = ds.window(window, shift=n_future, drop_remainder=True)\n",
        "    #flatten the dataset in batch of window_size\n",
        "    ds = ds.flat_map(lambda x: x.batch(window))\n",
        "    #shuffle \n",
        "    ds = ds.shuffle(shuffle_buffer)\n",
        "    #set traget and features , x and y\n",
        "    ds = ds.map(lambda window: (window[:-n_future], window[-n_future:, :1]))\n",
        "    #batch all tha stuff\n",
        "    ds = ds.batch(batch_size).prefetch(1)\n",
        "    return ds\n"
      ]
    },
    {
      "cell_type": "code",
      "execution_count": 19,
      "id": "1bf12e77",
      "metadata": {
        "colab": {
          "base_uri": "https://localhost:8080/"
        },
        "id": "1bf12e77",
        "outputId": "a534671a-c82e-4b27-fe31-3577f21eb0c6"
      },
      "outputs": [
        {
          "output_type": "stream",
          "name": "stdout",
          "text": [
            "      Monthly Mean Total Sunspot Number Date\n",
            "0                                  96.7   01\n",
            "1                                 104.3   02\n",
            "2                                 116.7   03\n",
            "3                                  92.8   04\n",
            "4                                 141.7   05\n",
            "...                                 ...  ...\n",
            "3230                                2.5   03\n",
            "3231                                8.9   04\n",
            "3232                               13.2   05\n",
            "3233                               15.9   06\n",
            "3234                                1.6   07\n",
            "\n",
            "[3235 rows x 2 columns]\n"
          ]
        }
      ],
      "source": [
        "path ='/content/Sunspots.csv'\n",
        "df = load_data(path,verbose=None)\n",
        "df = clean_data(df)\n",
        "df = make_month_feature(df, concat_to_df=True)\n",
        "#df = scale_min_max(df)\n",
        "print(df)\n",
        "\n",
        "#train_df , valid_df , test_df = split_data(df, train_fraq=0.65)\n",
        "#test = windowed_dataset(train_df,n_past=11,n_future=1,batch_size=142,shuffle_buffer=500)\n",
        "#df\n",
        "#print(int(len(train_df)//12), len(valid_df), len(test_df))"
      ]
    },
    {
      "cell_type": "code",
      "execution_count": 13,
      "id": "0b40d0de",
      "metadata": {
        "colab": {
          "base_uri": "https://localhost:8080/"
        },
        "id": "0b40d0de",
        "outputId": "dfb99dfd-fdc2-4b8d-c67d-f03127c45b8f"
      },
      "outputs": [
        {
          "output_type": "stream",
          "name": "stdout",
          "text": [
            "Prediction lookback (n_past) = 11\n",
            "Prediction horizon (n_future) = 1\n",
            "Batch size  (batch_size) = 142\n"
          ]
        }
      ],
      "source": [
        "def build_dataset(concat_to_df=True,train_fraq=0.65,\n",
        "                 n_past = 11,\n",
        "                 n_future =1,\n",
        "                 batch_size = 142,\n",
        "                 shuffle_buffer=500,\n",
        "                 ):\n",
        "    tf.random.set_seed(42)\n",
        "    data = load_data()\n",
        "    data = clean_data(data)\n",
        "    data = make_month_feature(data)\n",
        "    data = scale_min_max(data)\n",
        "    \n",
        "    train_data , valid_data , test_data = split_data(data,train_fraq)\n",
        "    \n",
        "    train_ds = windowed_dataset(train_data, n_past, n_future, batch_size, shuffle_buffer)\n",
        "    valid_ds = windowed_dataset(valid_data, n_past,n_future,batch_size, shuffle_buffer)\n",
        "    test_ds  = windowed_dataset(test_data, n_past, n_future, batch_size, shuffle_buffer)\n",
        "    \n",
        "    print(f\"Prediction lookback (n_past) = {n_past}\")\n",
        "    print(f\"Prediction horizon (n_future) = {n_future}\")\n",
        "    print(f\"Batch size  (batch_size) = {batch_size}\")\n",
        "    \n",
        "    return train_ds , valid_ds, test_ds\n",
        "train_ds, valid_ds, test_ds = build_dataset()"
      ]
    },
    {
      "cell_type": "code",
      "execution_count": 14,
      "id": "883d8bf9",
      "metadata": {
        "id": "883d8bf9"
      },
      "outputs": [],
      "source": [
        "def set_params(lr=1e-4, n_past=11,n_future=1,n_features=2):\n",
        "    lr = lr\n",
        "    n_past= n_past\n",
        "    n_future= n_future\n",
        "    n_features= n_features\n",
        "\n",
        "    return  n_past, n_future, n_features ,lr\n",
        "model_configs = dict()\n",
        "\n",
        "def cfg_model_run(model, history, test_ds):\n",
        "    return {\"model\": model, \"history\" : history, \"test_ds\": test_ds}\n",
        "\n",
        "\n",
        "def run_model(model_name, model_func, model_configs, epochs):\n",
        "    Model_Checkpoint = tf.keras.callbacks.ModelCheckpoint('{}/'.format(model_name), save_best_only=True)\n",
        "    print('Building Dataset......')\n",
        "    n_past, n_future, n_features,lr  = set_params()\n",
        "    train_ds, val_ds, test_ds = build_dataset()\n",
        "\n",
        "    model = model_func(n_past, n_future, n_features, lr=lr)\n",
        "\n",
        "    model_hist = model.fit(train_ds, validation_data=val_ds, epochs=epochs , callbacks=[Model_Checkpoint])\n",
        "    \n",
        "    print(f'Loading Saved {model_name} Model....')\n",
        "    model_loaded = tf.keras.models.load_model('{}/'.format(model_name))\n",
        "    print(f'Saving {model_name} Model Configs...')\n",
        "    model_configs[model_name] = cfg_model_run(model_loaded, model_hist, test_ds)\n",
        "    return test_ds"
      ]
    },
    {
      "cell_type": "code",
      "execution_count": 15,
      "id": "af563927",
      "metadata": {
        "colab": {
          "base_uri": "https://localhost:8080/"
        },
        "id": "af563927",
        "outputId": "859a950e-991f-4830-80b4-2b10930bb976"
      },
      "outputs": [
        {
          "output_type": "stream",
          "name": "stdout",
          "text": [
            "Model: \"cnn\"\n",
            "_________________________________________________________________\n",
            " Layer (type)                Output Shape              Param #   \n",
            "=================================================================\n",
            " conv1d (Conv1D)             (None, 6, 64)             832       \n",
            "                                                                 \n",
            " max_pooling1d (MaxPooling1D  (None, 3, 64)            0         \n",
            " )                                                               \n",
            "                                                                 \n",
            " conv1d_1 (Conv1D)           (None, 1, 64)             12352     \n",
            "                                                                 \n",
            " max_pooling1d_1 (MaxPooling  (None, 1, 64)            0         \n",
            " 1D)                                                             \n",
            "                                                                 \n",
            " flatten (Flatten)           (None, 64)                0         \n",
            "                                                                 \n",
            " dropout (Dropout)           (None, 64)                0         \n",
            "                                                                 \n",
            " dense (Dense)               (None, 128)               8320      \n",
            "                                                                 \n",
            " dropout_1 (Dropout)         (None, 128)               0         \n",
            "                                                                 \n",
            " dense_1 (Dense)             (None, 1)                 129       \n",
            "                                                                 \n",
            "=================================================================\n",
            "Total params: 21,633\n",
            "Trainable params: 21,633\n",
            "Non-trainable params: 0\n",
            "_________________________________________________________________\n"
          ]
        }
      ],
      "source": [
        "def cnn_model(n_past, n_future, n_features, lr):\n",
        "    tf.keras.backend.clear_session()\n",
        "    \n",
        "    model = tf.keras.models.Sequential([\n",
        "        layers.Conv1D(64, kernel_size=6, input_shape=(n_past,n_features)),\n",
        "        layers.MaxPooling1D(2),\n",
        "        layers.Conv1D(64, kernel_size=3, activation='relu'),\n",
        "        layers.MaxPooling1D(1),\n",
        "        layers.Flatten(),\n",
        "        layers.Dropout(0.3),\n",
        "        layers.Dense(128, activation='relu'),\n",
        "        layers.Dropout(0.3),\n",
        "        layers.Dense(n_future)\n",
        "    ], name='cnn')\n",
        "    \n",
        "    loss='mse'\n",
        "    optimizer = tf.keras.optimizers.Adam(learning_rate = lr)\n",
        "    \n",
        "    model.compile(loss=loss, optimizer=optimizer, metrics=['mae'])\n",
        "    return model\n",
        "\n",
        "cnn = cnn_model(*set_params())\n",
        "cnn.summary()\n",
        "    "
      ]
    },
    {
      "cell_type": "code",
      "execution_count": 16,
      "id": "12ccd7e4",
      "metadata": {
        "colab": {
          "base_uri": "https://localhost:8080/"
        },
        "id": "12ccd7e4",
        "outputId": "19c3cf75-22a8-481d-97a4-017ae7ef8fb9"
      },
      "outputs": [
        {
          "output_type": "stream",
          "name": "stdout",
          "text": [
            "Model: \"lstm\"\n",
            "_________________________________________________________________\n",
            " Layer (type)                Output Shape              Param #   \n",
            "=================================================================\n",
            " lstm (LSTM)                 (None, 11, 72)            21600     \n",
            "                                                                 \n",
            " lstm_1 (LSTM)               (None, 32)                13440     \n",
            "                                                                 \n",
            " dropout (Dropout)           (None, 32)                0         \n",
            "                                                                 \n",
            " dense (Dense)               (None, 62)                2046      \n",
            "                                                                 \n",
            " dropout_1 (Dropout)         (None, 62)                0         \n",
            "                                                                 \n",
            " dense_1 (Dense)             (None, 1)                 63        \n",
            "                                                                 \n",
            "=================================================================\n",
            "Total params: 37,149\n",
            "Trainable params: 37,149\n",
            "Non-trainable params: 0\n",
            "_________________________________________________________________\n"
          ]
        }
      ],
      "source": [
        "def lstm_model(n_past,n_future,n_features,lr):\n",
        "    tf.keras.backend.clear_session()\n",
        "    \n",
        "    model = tf.keras.models.Sequential([\n",
        "        layers.LSTM(72, input_shape=(n_past,n_features), return_sequences = True),\n",
        "        layers.LSTM(32, activation='relu', return_sequences=False),\n",
        "        layers.Dropout(0.3),\n",
        "        layers.Dense(62, activation='relu'),\n",
        "        layers.Dropout(0.3),\n",
        "        layers.Dense(n_future)\n",
        "        \n",
        "    ], name='lstm')\n",
        "    \n",
        "    loss='mse'\n",
        "    optimizer = tf.keras.optimizers.Adam(learning_rate = lr)\n",
        "    \n",
        "    model.compile(loss=loss, optimizer=optimizer, metrics=['mae'])\n",
        "    return model\n",
        "\n",
        "lstm = lstm_model(*set_params())\n",
        "lstm.summary()\n",
        "    "
      ]
    },
    {
      "cell_type": "code",
      "execution_count": 17,
      "id": "ec920531",
      "metadata": {
        "colab": {
          "base_uri": "https://localhost:8080/"
        },
        "id": "ec920531",
        "outputId": "cea662cf-cae3-419d-c6e7-5872f85e0a0b"
      },
      "outputs": [
        {
          "output_type": "stream",
          "name": "stdout",
          "text": [
            "Model: \"dnn\"\n",
            "_________________________________________________________________\n",
            " Layer (type)                Output Shape              Param #   \n",
            "=================================================================\n",
            " flatten (Flatten)           (None, 22)                0         \n",
            "                                                                 \n",
            " dense (Dense)               (None, 128)               2944      \n",
            "                                                                 \n",
            " dropout (Dropout)           (None, 128)               0         \n",
            "                                                                 \n",
            " dense_1 (Dense)             (None, 128)               16512     \n",
            "                                                                 \n",
            " dropout_1 (Dropout)         (None, 128)               0         \n",
            "                                                                 \n",
            " dense_2 (Dense)             (None, 1)                 129       \n",
            "                                                                 \n",
            "=================================================================\n",
            "Total params: 19,585\n",
            "Trainable params: 19,585\n",
            "Non-trainable params: 0\n",
            "_________________________________________________________________\n"
          ]
        }
      ],
      "source": [
        "def dnn_model(n_past,n_future,n_features,lr):\n",
        "    tf.keras.backend.clear_session()\n",
        "    \n",
        "    model = tf.keras.models.Sequential([\n",
        "        layers.Flatten(input_shape=(n_past, n_features)),\n",
        "        layers.Dense(128, activation='relu'),\n",
        "        layers.Dropout(0.3),\n",
        "        layers.Dense(128, activation='relu'),\n",
        "        layers.Dropout(0.3),\n",
        "        layers.Dense(n_future)\n",
        "    ], name='dnn')\n",
        "    \n",
        "    loss = 'mse'\n",
        "    optimizer = tf.keras.optimizers.Adam(learning_rate = lr)\n",
        "    \n",
        "    model.compile(loss=loss, optimizer=optimizer, metrics=['mae'])\n",
        "    return model\n",
        "\n",
        "dnn = dnn_model(*set_params())\n",
        "dnn.summary()"
      ]
    },
    {
      "cell_type": "code",
      "execution_count": 23,
      "id": "8777bf5d",
      "metadata": {
        "colab": {
          "base_uri": "https://localhost:8080/"
        },
        "id": "8777bf5d",
        "outputId": "8b59e0e5-3326-44fd-c979-c30d2dbd03ef"
      },
      "outputs": [
        {
          "metadata": {
            "tags": null
          },
          "name": "stdout",
          "output_type": "stream",
          "text": [
            "Building Dataset......\n",
            "Prediction lookback (n_past) = 11\n",
            "Prediction horizon (n_future) = 1\n",
            "Batch size  (batch_size) = 142\n",
            "Epoch 1/100\n",
            "12/12 [==============================] - 2s 151ms/step - loss: 0.1382 - mae: 0.2983 - val_loss: 0.0746 - val_mae: 0.2161\n",
            "Epoch 2/100\n",
            "12/12 [==============================] - 4s 329ms/step - loss: 0.0689 - mae: 0.1991 - val_loss: 0.0306 - val_mae: 0.1313\n",
            "Epoch 3/100\n",
            "12/12 [==============================] - 3s 254ms/step - loss: 0.0460 - mae: 0.1680 - val_loss: 0.0206 - val_mae: 0.1140\n",
            "Epoch 4/100\n",
            "12/12 [==============================] - 3s 223ms/step - loss: 0.0439 - mae: 0.1664 - val_loss: 0.0174 - val_mae: 0.1065\n",
            "Epoch 5/100\n",
            "12/12 [==============================] - 1s 103ms/step - loss: 0.0403 - mae: 0.1578 - val_loss: 0.0150 - val_mae: 0.0972\n",
            "Epoch 6/100\n",
            "12/12 [==============================] - 1s 104ms/step - loss: 0.0396 - mae: 0.1554 - val_loss: 0.0133 - val_mae: 0.0896\n",
            "Epoch 7/100\n",
            "12/12 [==============================] - 1s 104ms/step - loss: 0.0348 - mae: 0.1459 - val_loss: 0.0115 - val_mae: 0.0829\n",
            "Epoch 8/100\n",
            "12/12 [==============================] - 1s 103ms/step - loss: 0.0324 - mae: 0.1402 - val_loss: 0.0105 - val_mae: 0.0781\n",
            "Epoch 9/100\n",
            "12/12 [==============================] - 1s 103ms/step - loss: 0.0334 - mae: 0.1427 - val_loss: 0.0094 - val_mae: 0.0740\n",
            "Epoch 10/100\n",
            "12/12 [==============================] - 2s 131ms/step - loss: 0.0312 - mae: 0.1375 - val_loss: 0.0087 - val_mae: 0.0709\n",
            "Epoch 11/100\n",
            "12/12 [==============================] - 1s 104ms/step - loss: 0.0300 - mae: 0.1327 - val_loss: 0.0081 - val_mae: 0.0685\n",
            "Epoch 12/100\n",
            "12/12 [==============================] - 1s 101ms/step - loss: 0.0285 - mae: 0.1325 - val_loss: 0.0077 - val_mae: 0.0666\n",
            "Epoch 13/100\n",
            "12/12 [==============================] - 1s 106ms/step - loss: 0.0263 - mae: 0.1272 - val_loss: 0.0074 - val_mae: 0.0651\n",
            "Epoch 14/100\n",
            "12/12 [==============================] - 1s 105ms/step - loss: 0.0266 - mae: 0.1278 - val_loss: 0.0074 - val_mae: 0.0641\n",
            "Epoch 15/100\n",
            "12/12 [==============================] - 0s 30ms/step - loss: 0.0236 - mae: 0.1206 - val_loss: 0.0077 - val_mae: 0.0643\n",
            "Epoch 16/100\n",
            "12/12 [==============================] - 0s 30ms/step - loss: 0.0239 - mae: 0.1208 - val_loss: 0.0075 - val_mae: 0.0636\n",
            "Epoch 17/100\n",
            "12/12 [==============================] - 1s 105ms/step - loss: 0.0208 - mae: 0.1130 - val_loss: 0.0072 - val_mae: 0.0628\n",
            "Epoch 18/100\n",
            "12/12 [==============================] - 1s 106ms/step - loss: 0.0226 - mae: 0.1175 - val_loss: 0.0071 - val_mae: 0.0622\n",
            "Epoch 19/100\n",
            "12/12 [==============================] - 0s 31ms/step - loss: 0.0213 - mae: 0.1148 - val_loss: 0.0072 - val_mae: 0.0621\n",
            "Epoch 20/100\n",
            "12/12 [==============================] - 0s 32ms/step - loss: 0.0212 - mae: 0.1121 - val_loss: 0.0071 - val_mae: 0.0617\n",
            "Epoch 21/100\n",
            "12/12 [==============================] - 2s 134ms/step - loss: 0.0197 - mae: 0.1082 - val_loss: 0.0070 - val_mae: 0.0611\n",
            "Epoch 22/100\n",
            "12/12 [==============================] - 1s 104ms/step - loss: 0.0201 - mae: 0.1092 - val_loss: 0.0069 - val_mae: 0.0606\n",
            "Epoch 23/100\n",
            "12/12 [==============================] - 1s 105ms/step - loss: 0.0201 - mae: 0.1077 - val_loss: 0.0068 - val_mae: 0.0603\n",
            "Epoch 24/100\n",
            "12/12 [==============================] - 1s 102ms/step - loss: 0.0206 - mae: 0.1109 - val_loss: 0.0068 - val_mae: 0.0602\n",
            "Epoch 25/100\n",
            "12/12 [==============================] - 0s 32ms/step - loss: 0.0185 - mae: 0.1045 - val_loss: 0.0068 - val_mae: 0.0601\n",
            "Epoch 26/100\n",
            "12/12 [==============================] - 1s 104ms/step - loss: 0.0186 - mae: 0.1061 - val_loss: 0.0067 - val_mae: 0.0599\n",
            "Epoch 27/100\n",
            "12/12 [==============================] - 0s 31ms/step - loss: 0.0181 - mae: 0.1042 - val_loss: 0.0070 - val_mae: 0.0605\n",
            "Epoch 28/100\n",
            "12/12 [==============================] - 0s 32ms/step - loss: 0.0169 - mae: 0.1002 - val_loss: 0.0070 - val_mae: 0.0605\n",
            "Epoch 29/100\n",
            "12/12 [==============================] - 0s 31ms/step - loss: 0.0164 - mae: 0.0981 - val_loss: 0.0067 - val_mae: 0.0598\n",
            "Epoch 30/100\n",
            "12/12 [==============================] - 1s 46ms/step - loss: 0.0160 - mae: 0.0984 - val_loss: 0.0068 - val_mae: 0.0598\n",
            "Epoch 31/100\n",
            "12/12 [==============================] - 0s 31ms/step - loss: 0.0164 - mae: 0.0980 - val_loss: 0.0068 - val_mae: 0.0597\n",
            "Epoch 32/100\n",
            "12/12 [==============================] - 1s 52ms/step - loss: 0.0160 - mae: 0.0980 - val_loss: 0.0069 - val_mae: 0.0602\n",
            "Epoch 33/100\n",
            "12/12 [==============================] - 2s 128ms/step - loss: 0.0159 - mae: 0.0962 - val_loss: 0.0067 - val_mae: 0.0597\n",
            "Epoch 34/100\n",
            "12/12 [==============================] - 0s 29ms/step - loss: 0.0154 - mae: 0.0950 - val_loss: 0.0068 - val_mae: 0.0601\n",
            "Epoch 35/100\n",
            "12/12 [==============================] - 1s 102ms/step - loss: 0.0155 - mae: 0.0950 - val_loss: 0.0066 - val_mae: 0.0591\n",
            "Epoch 36/100\n",
            "12/12 [==============================] - 1s 105ms/step - loss: 0.0142 - mae: 0.0924 - val_loss: 0.0065 - val_mae: 0.0587\n",
            "Epoch 37/100\n",
            "12/12 [==============================] - 0s 29ms/step - loss: 0.0152 - mae: 0.0943 - val_loss: 0.0068 - val_mae: 0.0601\n",
            "Epoch 38/100\n",
            "12/12 [==============================] - 1s 45ms/step - loss: 0.0137 - mae: 0.0895 - val_loss: 0.0070 - val_mae: 0.0609\n",
            "Epoch 39/100\n",
            "12/12 [==============================] - 0s 31ms/step - loss: 0.0133 - mae: 0.0899 - val_loss: 0.0069 - val_mae: 0.0605\n",
            "Epoch 40/100\n",
            "12/12 [==============================] - 0s 29ms/step - loss: 0.0137 - mae: 0.0904 - val_loss: 0.0068 - val_mae: 0.0598\n",
            "Epoch 41/100\n",
            "12/12 [==============================] - 0s 32ms/step - loss: 0.0134 - mae: 0.0889 - val_loss: 0.0069 - val_mae: 0.0602\n",
            "Epoch 42/100\n",
            "12/12 [==============================] - 0s 31ms/step - loss: 0.0134 - mae: 0.0895 - val_loss: 0.0068 - val_mae: 0.0600\n",
            "Epoch 43/100\n",
            "12/12 [==============================] - 0s 32ms/step - loss: 0.0128 - mae: 0.0862 - val_loss: 0.0069 - val_mae: 0.0602\n",
            "Epoch 44/100\n",
            "12/12 [==============================] - 0s 32ms/step - loss: 0.0132 - mae: 0.0882 - val_loss: 0.0068 - val_mae: 0.0598\n",
            "Epoch 45/100\n",
            "12/12 [==============================] - 0s 30ms/step - loss: 0.0123 - mae: 0.0859 - val_loss: 0.0069 - val_mae: 0.0600\n",
            "Epoch 46/100\n",
            "12/12 [==============================] - 0s 31ms/step - loss: 0.0133 - mae: 0.0881 - val_loss: 0.0067 - val_mae: 0.0592\n",
            "Epoch 47/100\n",
            "12/12 [==============================] - 0s 30ms/step - loss: 0.0129 - mae: 0.0876 - val_loss: 0.0066 - val_mae: 0.0591\n",
            "Epoch 48/100\n",
            "12/12 [==============================] - 1s 49ms/step - loss: 0.0122 - mae: 0.0846 - val_loss: 0.0068 - val_mae: 0.0594\n",
            "Epoch 49/100\n",
            "12/12 [==============================] - 0s 32ms/step - loss: 0.0129 - mae: 0.0862 - val_loss: 0.0067 - val_mae: 0.0591\n",
            "Epoch 50/100\n",
            "12/12 [==============================] - 0s 33ms/step - loss: 0.0122 - mae: 0.0828 - val_loss: 0.0067 - val_mae: 0.0593\n",
            "Epoch 51/100\n",
            "12/12 [==============================] - 0s 30ms/step - loss: 0.0123 - mae: 0.0830 - val_loss: 0.0067 - val_mae: 0.0592\n",
            "Epoch 52/100\n",
            "12/12 [==============================] - 0s 30ms/step - loss: 0.0115 - mae: 0.0809 - val_loss: 0.0066 - val_mae: 0.0589\n",
            "Epoch 53/100\n",
            "12/12 [==============================] - 1s 41ms/step - loss: 0.0117 - mae: 0.0834 - val_loss: 0.0065 - val_mae: 0.0585\n",
            "Epoch 54/100\n",
            "12/12 [==============================] - 0s 33ms/step - loss: 0.0127 - mae: 0.0845 - val_loss: 0.0067 - val_mae: 0.0592\n",
            "Epoch 55/100\n",
            "12/12 [==============================] - 1s 39ms/step - loss: 0.0107 - mae: 0.0795 - val_loss: 0.0068 - val_mae: 0.0595\n",
            "Epoch 56/100\n",
            "12/12 [==============================] - 0s 30ms/step - loss: 0.0108 - mae: 0.0789 - val_loss: 0.0068 - val_mae: 0.0595\n",
            "Epoch 57/100\n",
            "12/12 [==============================] - 0s 33ms/step - loss: 0.0107 - mae: 0.0781 - val_loss: 0.0067 - val_mae: 0.0594\n",
            "Epoch 58/100\n",
            "12/12 [==============================] - 1s 47ms/step - loss: 0.0112 - mae: 0.0801 - val_loss: 0.0067 - val_mae: 0.0593\n",
            "Epoch 59/100\n",
            "12/12 [==============================] - 0s 32ms/step - loss: 0.0109 - mae: 0.0785 - val_loss: 0.0069 - val_mae: 0.0598\n",
            "Epoch 60/100\n",
            "12/12 [==============================] - 0s 30ms/step - loss: 0.0109 - mae: 0.0791 - val_loss: 0.0069 - val_mae: 0.0600\n",
            "Epoch 61/100\n",
            "12/12 [==============================] - 0s 32ms/step - loss: 0.0106 - mae: 0.0777 - val_loss: 0.0067 - val_mae: 0.0591\n",
            "Epoch 62/100\n",
            "12/12 [==============================] - 0s 32ms/step - loss: 0.0103 - mae: 0.0761 - val_loss: 0.0065 - val_mae: 0.0586\n",
            "Epoch 63/100\n",
            "12/12 [==============================] - 1s 47ms/step - loss: 0.0102 - mae: 0.0765 - val_loss: 0.0067 - val_mae: 0.0591\n",
            "Epoch 64/100\n",
            "12/12 [==============================] - 0s 34ms/step - loss: 0.0102 - mae: 0.0770 - val_loss: 0.0066 - val_mae: 0.0589\n",
            "Epoch 65/100\n",
            "12/12 [==============================] - 0s 33ms/step - loss: 0.0109 - mae: 0.0790 - val_loss: 0.0067 - val_mae: 0.0592\n",
            "Epoch 66/100\n",
            "12/12 [==============================] - 0s 31ms/step - loss: 0.0096 - mae: 0.0735 - val_loss: 0.0069 - val_mae: 0.0598\n",
            "Epoch 67/100\n",
            "12/12 [==============================] - 0s 33ms/step - loss: 0.0099 - mae: 0.0745 - val_loss: 0.0068 - val_mae: 0.0595\n",
            "Epoch 68/100\n",
            "12/12 [==============================] - 1s 46ms/step - loss: 0.0101 - mae: 0.0759 - val_loss: 0.0065 - val_mae: 0.0587\n",
            "Epoch 69/100\n",
            "12/12 [==============================] - 0s 32ms/step - loss: 0.0099 - mae: 0.0756 - val_loss: 0.0068 - val_mae: 0.0594\n",
            "Epoch 70/100\n",
            "12/12 [==============================] - 1s 48ms/step - loss: 0.0100 - mae: 0.0753 - val_loss: 0.0069 - val_mae: 0.0597\n",
            "Epoch 71/100\n",
            "12/12 [==============================] - 0s 33ms/step - loss: 0.0097 - mae: 0.0748 - val_loss: 0.0068 - val_mae: 0.0595\n",
            "Epoch 72/100\n",
            "12/12 [==============================] - 0s 33ms/step - loss: 0.0098 - mae: 0.0739 - val_loss: 0.0068 - val_mae: 0.0596\n",
            "Epoch 73/100\n",
            "12/12 [==============================] - 0s 31ms/step - loss: 0.0094 - mae: 0.0737 - val_loss: 0.0068 - val_mae: 0.0595\n",
            "Epoch 74/100\n",
            "12/12 [==============================] - 0s 31ms/step - loss: 0.0093 - mae: 0.0728 - val_loss: 0.0069 - val_mae: 0.0597\n",
            "Epoch 75/100\n",
            "12/12 [==============================] - 0s 31ms/step - loss: 0.0098 - mae: 0.0748 - val_loss: 0.0068 - val_mae: 0.0595\n",
            "Epoch 76/100\n",
            "12/12 [==============================] - 0s 31ms/step - loss: 0.0095 - mae: 0.0747 - val_loss: 0.0067 - val_mae: 0.0590\n",
            "Epoch 77/100\n",
            "12/12 [==============================] - 0s 33ms/step - loss: 0.0092 - mae: 0.0727 - val_loss: 0.0069 - val_mae: 0.0598\n",
            "Epoch 78/100\n",
            "12/12 [==============================] - 0s 31ms/step - loss: 0.0095 - mae: 0.0726 - val_loss: 0.0068 - val_mae: 0.0595\n",
            "Epoch 79/100\n",
            "12/12 [==============================] - 0s 32ms/step - loss: 0.0091 - mae: 0.0721 - val_loss: 0.0069 - val_mae: 0.0601\n",
            "Epoch 80/100\n",
            "12/12 [==============================] - 0s 32ms/step - loss: 0.0090 - mae: 0.0715 - val_loss: 0.0067 - val_mae: 0.0593\n",
            "Epoch 81/100\n",
            "12/12 [==============================] - 0s 31ms/step - loss: 0.0090 - mae: 0.0714 - val_loss: 0.0067 - val_mae: 0.0593\n",
            "Epoch 82/100\n",
            "12/12 [==============================] - 0s 32ms/step - loss: 0.0093 - mae: 0.0726 - val_loss: 0.0071 - val_mae: 0.0608\n",
            "Epoch 83/100\n",
            "12/12 [==============================] - 0s 31ms/step - loss: 0.0092 - mae: 0.0715 - val_loss: 0.0070 - val_mae: 0.0602\n",
            "Epoch 84/100\n",
            "12/12 [==============================] - 0s 32ms/step - loss: 0.0093 - mae: 0.0719 - val_loss: 0.0069 - val_mae: 0.0600\n",
            "Epoch 85/100\n",
            "12/12 [==============================] - 1s 47ms/step - loss: 0.0088 - mae: 0.0703 - val_loss: 0.0071 - val_mae: 0.0607\n",
            "Epoch 86/100\n",
            "12/12 [==============================] - 0s 30ms/step - loss: 0.0085 - mae: 0.0703 - val_loss: 0.0071 - val_mae: 0.0608\n",
            "Epoch 87/100\n",
            "12/12 [==============================] - 0s 32ms/step - loss: 0.0084 - mae: 0.0684 - val_loss: 0.0071 - val_mae: 0.0606\n",
            "Epoch 88/100\n",
            "12/12 [==============================] - 0s 32ms/step - loss: 0.0090 - mae: 0.0717 - val_loss: 0.0071 - val_mae: 0.0608\n",
            "Epoch 89/100\n",
            "12/12 [==============================] - 0s 33ms/step - loss: 0.0086 - mae: 0.0703 - val_loss: 0.0070 - val_mae: 0.0603\n",
            "Epoch 90/100\n",
            "12/12 [==============================] - 0s 33ms/step - loss: 0.0088 - mae: 0.0696 - val_loss: 0.0068 - val_mae: 0.0598\n",
            "Epoch 91/100\n",
            "12/12 [==============================] - 0s 31ms/step - loss: 0.0081 - mae: 0.0680 - val_loss: 0.0069 - val_mae: 0.0601\n",
            "Epoch 92/100\n",
            "12/12 [==============================] - 0s 32ms/step - loss: 0.0082 - mae: 0.0676 - val_loss: 0.0072 - val_mae: 0.0611\n",
            "Epoch 93/100\n",
            "12/12 [==============================] - 1s 47ms/step - loss: 0.0085 - mae: 0.0682 - val_loss: 0.0072 - val_mae: 0.0610\n",
            "Epoch 94/100\n",
            "12/12 [==============================] - 0s 33ms/step - loss: 0.0083 - mae: 0.0694 - val_loss: 0.0072 - val_mae: 0.0610\n",
            "Epoch 95/100\n",
            "12/12 [==============================] - 0s 31ms/step - loss: 0.0087 - mae: 0.0693 - val_loss: 0.0073 - val_mae: 0.0614\n",
            "Epoch 96/100\n",
            "12/12 [==============================] - 0s 30ms/step - loss: 0.0087 - mae: 0.0702 - val_loss: 0.0074 - val_mae: 0.0618\n",
            "Epoch 97/100\n",
            "12/12 [==============================] - 0s 31ms/step - loss: 0.0085 - mae: 0.0696 - val_loss: 0.0072 - val_mae: 0.0608\n",
            "Epoch 98/100\n",
            "12/12 [==============================] - 0s 32ms/step - loss: 0.0086 - mae: 0.0692 - val_loss: 0.0072 - val_mae: 0.0609\n",
            "Epoch 99/100\n",
            "12/12 [==============================] - 0s 31ms/step - loss: 0.0085 - mae: 0.0692 - val_loss: 0.0073 - val_mae: 0.0611\n",
            "Epoch 100/100\n",
            "12/12 [==============================] - 0s 32ms/step - loss: 0.0084 - mae: 0.0688 - val_loss: 0.0071 - val_mae: 0.0607\n",
            "Loading Saved dnn Model....\n",
            "Saving dnn Model Configs...\n",
            "Building Dataset......\n",
            "Prediction lookback (n_past) = 11\n",
            "Prediction horizon (n_future) = 1\n",
            "Batch size  (batch_size) = 142\n",
            "Epoch 1/100\n",
            "     11/Unknown - 4s 37ms/step - loss: 0.0639 - mae: 0.1903"
          ]
        },
        {
          "metadata": {
            "tags": null
          },
          "name": "stderr",
          "output_type": "stream",
          "text": [
            "WARNING:absl:Found untraced functions such as lstm_cell_layer_call_fn, lstm_cell_layer_call_and_return_conditional_losses while saving (showing 2 of 2). These functions will not be directly callable after loading.\n",
            "WARNING:absl:<keras.layers.recurrent.LSTMCell object at 0x7fb7acb4c8d0> has the same name 'LSTMCell' as a built-in Keras object. Consider renaming <class 'keras.layers.recurrent.LSTMCell'> to avoid naming conflicts when loading with `tf.keras.models.load_model`. If renaming is not possible, pass the object in the `custom_objects` parameter of the load function.\n",
            "WARNING:absl:<keras.layers.recurrent.LSTMCell object at 0x7fb7acb36990> has the same name 'LSTMCell' as a built-in Keras object. Consider renaming <class 'keras.layers.recurrent.LSTMCell'> to avoid naming conflicts when loading with `tf.keras.models.load_model`. If renaming is not possible, pass the object in the `custom_objects` parameter of the load function.\n"
          ]
        },
        {
          "metadata": {
            "tags": null
          },
          "name": "stdout",
          "output_type": "stream",
          "text": [
            "12/12 [==============================] - 11s 658ms/step - loss: 0.0627 - mae: 0.1883 - val_loss: 0.0657 - val_mae: 0.1903\n",
            "Epoch 2/100\n",
            "12/12 [==============================] - ETA: 0s - loss: 0.0505 - mae: 0.1638"
          ]
        },
        {
          "metadata": {
            "tags": null
          },
          "name": "stderr",
          "output_type": "stream",
          "text": [
            "WARNING:absl:Found untraced functions such as lstm_cell_layer_call_fn, lstm_cell_layer_call_and_return_conditional_losses while saving (showing 2 of 2). These functions will not be directly callable after loading.\n",
            "WARNING:absl:<keras.layers.recurrent.LSTMCell object at 0x7fb7acb4c8d0> has the same name 'LSTMCell' as a built-in Keras object. Consider renaming <class 'keras.layers.recurrent.LSTMCell'> to avoid naming conflicts when loading with `tf.keras.models.load_model`. If renaming is not possible, pass the object in the `custom_objects` parameter of the load function.\n",
            "WARNING:absl:<keras.layers.recurrent.LSTMCell object at 0x7fb7acb36990> has the same name 'LSTMCell' as a built-in Keras object. Consider renaming <class 'keras.layers.recurrent.LSTMCell'> to avoid naming conflicts when loading with `tf.keras.models.load_model`. If renaming is not possible, pass the object in the `custom_objects` parameter of the load function.\n"
          ]
        },
        {
          "metadata": {
            "tags": null
          },
          "name": "stdout",
          "output_type": "stream",
          "text": [
            "12/12 [==============================] - 7s 581ms/step - loss: 0.0505 - mae: 0.1638 - val_loss: 0.0517 - val_mae: 0.1646\n",
            "Epoch 3/100\n",
            "12/12 [==============================] - ETA: 0s - loss: 0.0399 - mae: 0.1442"
          ]
        },
        {
          "metadata": {
            "tags": null
          },
          "name": "stderr",
          "output_type": "stream",
          "text": [
            "WARNING:absl:Found untraced functions such as lstm_cell_layer_call_fn, lstm_cell_layer_call_and_return_conditional_losses while saving (showing 2 of 2). These functions will not be directly callable after loading.\n",
            "WARNING:absl:<keras.layers.recurrent.LSTMCell object at 0x7fb7acb4c8d0> has the same name 'LSTMCell' as a built-in Keras object. Consider renaming <class 'keras.layers.recurrent.LSTMCell'> to avoid naming conflicts when loading with `tf.keras.models.load_model`. If renaming is not possible, pass the object in the `custom_objects` parameter of the load function.\n",
            "WARNING:absl:<keras.layers.recurrent.LSTMCell object at 0x7fb7acb36990> has the same name 'LSTMCell' as a built-in Keras object. Consider renaming <class 'keras.layers.recurrent.LSTMCell'> to avoid naming conflicts when loading with `tf.keras.models.load_model`. If renaming is not possible, pass the object in the `custom_objects` parameter of the load function.\n"
          ]
        },
        {
          "metadata": {
            "tags": null
          },
          "name": "stdout",
          "output_type": "stream",
          "text": [
            "12/12 [==============================] - 7s 644ms/step - loss: 0.0399 - mae: 0.1442 - val_loss: 0.0406 - val_mae: 0.1456\n",
            "Epoch 4/100\n",
            "12/12 [==============================] - ETA: 0s - loss: 0.0322 - mae: 0.1307"
          ]
        },
        {
          "metadata": {
            "tags": null
          },
          "name": "stderr",
          "output_type": "stream",
          "text": [
            "WARNING:absl:Found untraced functions such as lstm_cell_layer_call_fn, lstm_cell_layer_call_and_return_conditional_losses while saving (showing 2 of 2). These functions will not be directly callable after loading.\n",
            "WARNING:absl:<keras.layers.recurrent.LSTMCell object at 0x7fb7acb4c8d0> has the same name 'LSTMCell' as a built-in Keras object. Consider renaming <class 'keras.layers.recurrent.LSTMCell'> to avoid naming conflicts when loading with `tf.keras.models.load_model`. If renaming is not possible, pass the object in the `custom_objects` parameter of the load function.\n",
            "WARNING:absl:<keras.layers.recurrent.LSTMCell object at 0x7fb7acb36990> has the same name 'LSTMCell' as a built-in Keras object. Consider renaming <class 'keras.layers.recurrent.LSTMCell'> to avoid naming conflicts when loading with `tf.keras.models.load_model`. If renaming is not possible, pass the object in the `custom_objects` parameter of the load function.\n"
          ]
        },
        {
          "metadata": {
            "tags": null
          },
          "name": "stdout",
          "output_type": "stream",
          "text": [
            "12/12 [==============================] - 7s 621ms/step - loss: 0.0322 - mae: 0.1307 - val_loss: 0.0322 - val_mae: 0.1326\n",
            "Epoch 5/100\n",
            "11/12 [==========================>...] - ETA: 0s - loss: 0.0282 - mae: 0.1262"
          ]
        },
        {
          "metadata": {
            "tags": null
          },
          "name": "stderr",
          "output_type": "stream",
          "text": [
            "WARNING:absl:Found untraced functions such as lstm_cell_layer_call_fn, lstm_cell_layer_call_and_return_conditional_losses while saving (showing 2 of 2). These functions will not be directly callable after loading.\n",
            "WARNING:absl:<keras.layers.recurrent.LSTMCell object at 0x7fb7acb4c8d0> has the same name 'LSTMCell' as a built-in Keras object. Consider renaming <class 'keras.layers.recurrent.LSTMCell'> to avoid naming conflicts when loading with `tf.keras.models.load_model`. If renaming is not possible, pass the object in the `custom_objects` parameter of the load function.\n",
            "WARNING:absl:<keras.layers.recurrent.LSTMCell object at 0x7fb7acb36990> has the same name 'LSTMCell' as a built-in Keras object. Consider renaming <class 'keras.layers.recurrent.LSTMCell'> to avoid naming conflicts when loading with `tf.keras.models.load_model`. If renaming is not possible, pass the object in the `custom_objects` parameter of the load function.\n"
          ]
        },
        {
          "metadata": {
            "tags": null
          },
          "name": "stdout",
          "output_type": "stream",
          "text": [
            "12/12 [==============================] - 7s 632ms/step - loss: 0.0278 - mae: 0.1251 - val_loss: 0.0262 - val_mae: 0.1236\n",
            "Epoch 6/100\n",
            "12/12 [==============================] - ETA: 0s - loss: 0.0243 - mae: 0.1202"
          ]
        },
        {
          "metadata": {
            "tags": null
          },
          "name": "stderr",
          "output_type": "stream",
          "text": [
            "WARNING:absl:Found untraced functions such as lstm_cell_layer_call_fn, lstm_cell_layer_call_and_return_conditional_losses while saving (showing 2 of 2). These functions will not be directly callable after loading.\n",
            "WARNING:absl:<keras.layers.recurrent.LSTMCell object at 0x7fb7acb4c8d0> has the same name 'LSTMCell' as a built-in Keras object. Consider renaming <class 'keras.layers.recurrent.LSTMCell'> to avoid naming conflicts when loading with `tf.keras.models.load_model`. If renaming is not possible, pass the object in the `custom_objects` parameter of the load function.\n",
            "WARNING:absl:<keras.layers.recurrent.LSTMCell object at 0x7fb7acb36990> has the same name 'LSTMCell' as a built-in Keras object. Consider renaming <class 'keras.layers.recurrent.LSTMCell'> to avoid naming conflicts when loading with `tf.keras.models.load_model`. If renaming is not possible, pass the object in the `custom_objects` parameter of the load function.\n"
          ]
        },
        {
          "metadata": {
            "tags": null
          },
          "name": "stdout",
          "output_type": "stream",
          "text": [
            "12/12 [==============================] - 7s 581ms/step - loss: 0.0243 - mae: 0.1202 - val_loss: 0.0220 - val_mae: 0.1164\n",
            "Epoch 7/100\n",
            "11/12 [==========================>...] - ETA: 0s - loss: 0.0215 - mae: 0.1161"
          ]
        },
        {
          "metadata": {
            "tags": null
          },
          "name": "stderr",
          "output_type": "stream",
          "text": [
            "WARNING:absl:Found untraced functions such as lstm_cell_layer_call_fn, lstm_cell_layer_call_and_return_conditional_losses while saving (showing 2 of 2). These functions will not be directly callable after loading.\n",
            "WARNING:absl:<keras.layers.recurrent.LSTMCell object at 0x7fb7acb4c8d0> has the same name 'LSTMCell' as a built-in Keras object. Consider renaming <class 'keras.layers.recurrent.LSTMCell'> to avoid naming conflicts when loading with `tf.keras.models.load_model`. If renaming is not possible, pass the object in the `custom_objects` parameter of the load function.\n",
            "WARNING:absl:<keras.layers.recurrent.LSTMCell object at 0x7fb7acb36990> has the same name 'LSTMCell' as a built-in Keras object. Consider renaming <class 'keras.layers.recurrent.LSTMCell'> to avoid naming conflicts when loading with `tf.keras.models.load_model`. If renaming is not possible, pass the object in the `custom_objects` parameter of the load function.\n"
          ]
        },
        {
          "metadata": {
            "tags": null
          },
          "name": "stdout",
          "output_type": "stream",
          "text": [
            "12/12 [==============================] - 7s 629ms/step - loss: 0.0215 - mae: 0.1162 - val_loss: 0.0192 - val_mae: 0.1104\n",
            "Epoch 8/100\n",
            "11/12 [==========================>...] - ETA: 0s - loss: 0.0209 - mae: 0.1128"
          ]
        },
        {
          "metadata": {
            "tags": null
          },
          "name": "stderr",
          "output_type": "stream",
          "text": [
            "WARNING:absl:Found untraced functions such as lstm_cell_layer_call_fn, lstm_cell_layer_call_and_return_conditional_losses while saving (showing 2 of 2). These functions will not be directly callable after loading.\n",
            "WARNING:absl:<keras.layers.recurrent.LSTMCell object at 0x7fb7acb4c8d0> has the same name 'LSTMCell' as a built-in Keras object. Consider renaming <class 'keras.layers.recurrent.LSTMCell'> to avoid naming conflicts when loading with `tf.keras.models.load_model`. If renaming is not possible, pass the object in the `custom_objects` parameter of the load function.\n",
            "WARNING:absl:<keras.layers.recurrent.LSTMCell object at 0x7fb7acb36990> has the same name 'LSTMCell' as a built-in Keras object. Consider renaming <class 'keras.layers.recurrent.LSTMCell'> to avoid naming conflicts when loading with `tf.keras.models.load_model`. If renaming is not possible, pass the object in the `custom_objects` parameter of the load function.\n"
          ]
        },
        {
          "metadata": {
            "tags": null
          },
          "name": "stdout",
          "output_type": "stream",
          "text": [
            "12/12 [==============================] - 7s 609ms/step - loss: 0.0205 - mae: 0.1122 - val_loss: 0.0172 - val_mae: 0.1040\n",
            "Epoch 9/100\n",
            "12/12 [==============================] - ETA: 0s - loss: 0.0191 - mae: 0.1070"
          ]
        },
        {
          "metadata": {
            "tags": null
          },
          "name": "stderr",
          "output_type": "stream",
          "text": [
            "WARNING:absl:Found untraced functions such as lstm_cell_layer_call_fn, lstm_cell_layer_call_and_return_conditional_losses while saving (showing 2 of 2). These functions will not be directly callable after loading.\n",
            "WARNING:absl:<keras.layers.recurrent.LSTMCell object at 0x7fb7acb4c8d0> has the same name 'LSTMCell' as a built-in Keras object. Consider renaming <class 'keras.layers.recurrent.LSTMCell'> to avoid naming conflicts when loading with `tf.keras.models.load_model`. If renaming is not possible, pass the object in the `custom_objects` parameter of the load function.\n",
            "WARNING:absl:<keras.layers.recurrent.LSTMCell object at 0x7fb7acb36990> has the same name 'LSTMCell' as a built-in Keras object. Consider renaming <class 'keras.layers.recurrent.LSTMCell'> to avoid naming conflicts when loading with `tf.keras.models.load_model`. If renaming is not possible, pass the object in the `custom_objects` parameter of the load function.\n"
          ]
        },
        {
          "metadata": {
            "tags": null
          },
          "name": "stdout",
          "output_type": "stream",
          "text": [
            "12/12 [==============================] - 7s 619ms/step - loss: 0.0191 - mae: 0.1070 - val_loss: 0.0154 - val_mae: 0.0973\n",
            "Epoch 10/100\n",
            "11/12 [==========================>...] - ETA: 0s - loss: 0.0156 - mae: 0.0968"
          ]
        },
        {
          "metadata": {
            "tags": null
          },
          "name": "stderr",
          "output_type": "stream",
          "text": [
            "WARNING:absl:Found untraced functions such as lstm_cell_layer_call_fn, lstm_cell_layer_call_and_return_conditional_losses while saving (showing 2 of 2). These functions will not be directly callable after loading.\n",
            "WARNING:absl:<keras.layers.recurrent.LSTMCell object at 0x7fb7acb4c8d0> has the same name 'LSTMCell' as a built-in Keras object. Consider renaming <class 'keras.layers.recurrent.LSTMCell'> to avoid naming conflicts when loading with `tf.keras.models.load_model`. If renaming is not possible, pass the object in the `custom_objects` parameter of the load function.\n",
            "WARNING:absl:<keras.layers.recurrent.LSTMCell object at 0x7fb7acb36990> has the same name 'LSTMCell' as a built-in Keras object. Consider renaming <class 'keras.layers.recurrent.LSTMCell'> to avoid naming conflicts when loading with `tf.keras.models.load_model`. If renaming is not possible, pass the object in the `custom_objects` parameter of the load function.\n"
          ]
        },
        {
          "metadata": {
            "tags": null
          },
          "name": "stdout",
          "output_type": "stream",
          "text": [
            "12/12 [==============================] - 6s 574ms/step - loss: 0.0156 - mae: 0.0966 - val_loss: 0.0136 - val_mae: 0.0905\n",
            "Epoch 11/100\n",
            "12/12 [==============================] - ETA: 0s - loss: 0.0152 - mae: 0.0936"
          ]
        },
        {
          "metadata": {
            "tags": null
          },
          "name": "stderr",
          "output_type": "stream",
          "text": [
            "WARNING:absl:Found untraced functions such as lstm_cell_layer_call_fn, lstm_cell_layer_call_and_return_conditional_losses while saving (showing 2 of 2). These functions will not be directly callable after loading.\n",
            "WARNING:absl:<keras.layers.recurrent.LSTMCell object at 0x7fb7acb4c8d0> has the same name 'LSTMCell' as a built-in Keras object. Consider renaming <class 'keras.layers.recurrent.LSTMCell'> to avoid naming conflicts when loading with `tf.keras.models.load_model`. If renaming is not possible, pass the object in the `custom_objects` parameter of the load function.\n",
            "WARNING:absl:<keras.layers.recurrent.LSTMCell object at 0x7fb7acb36990> has the same name 'LSTMCell' as a built-in Keras object. Consider renaming <class 'keras.layers.recurrent.LSTMCell'> to avoid naming conflicts when loading with `tf.keras.models.load_model`. If renaming is not possible, pass the object in the `custom_objects` parameter of the load function.\n"
          ]
        },
        {
          "metadata": {
            "tags": null
          },
          "name": "stdout",
          "output_type": "stream",
          "text": [
            "12/12 [==============================] - 7s 629ms/step - loss: 0.0152 - mae: 0.0936 - val_loss: 0.0120 - val_mae: 0.0838\n",
            "Epoch 12/100\n",
            "11/12 [==========================>...] - ETA: 0s - loss: 0.0141 - mae: 0.0896"
          ]
        },
        {
          "metadata": {
            "tags": null
          },
          "name": "stderr",
          "output_type": "stream",
          "text": [
            "WARNING:absl:Found untraced functions such as lstm_cell_layer_call_fn, lstm_cell_layer_call_and_return_conditional_losses while saving (showing 2 of 2). These functions will not be directly callable after loading.\n",
            "WARNING:absl:<keras.layers.recurrent.LSTMCell object at 0x7fb7acb4c8d0> has the same name 'LSTMCell' as a built-in Keras object. Consider renaming <class 'keras.layers.recurrent.LSTMCell'> to avoid naming conflicts when loading with `tf.keras.models.load_model`. If renaming is not possible, pass the object in the `custom_objects` parameter of the load function.\n",
            "WARNING:absl:<keras.layers.recurrent.LSTMCell object at 0x7fb7acb36990> has the same name 'LSTMCell' as a built-in Keras object. Consider renaming <class 'keras.layers.recurrent.LSTMCell'> to avoid naming conflicts when loading with `tf.keras.models.load_model`. If renaming is not possible, pass the object in the `custom_objects` parameter of the load function.\n"
          ]
        },
        {
          "metadata": {
            "tags": null
          },
          "name": "stdout",
          "output_type": "stream",
          "text": [
            "12/12 [==============================] - 7s 613ms/step - loss: 0.0136 - mae: 0.0883 - val_loss: 0.0103 - val_mae: 0.0777\n",
            "Epoch 13/100\n",
            "11/12 [==========================>...] - ETA: 0s - loss: 0.0132 - mae: 0.0853"
          ]
        },
        {
          "metadata": {
            "tags": null
          },
          "name": "stderr",
          "output_type": "stream",
          "text": [
            "WARNING:absl:Found untraced functions such as lstm_cell_layer_call_fn, lstm_cell_layer_call_and_return_conditional_losses while saving (showing 2 of 2). These functions will not be directly callable after loading.\n",
            "WARNING:absl:<keras.layers.recurrent.LSTMCell object at 0x7fb7acb4c8d0> has the same name 'LSTMCell' as a built-in Keras object. Consider renaming <class 'keras.layers.recurrent.LSTMCell'> to avoid naming conflicts when loading with `tf.keras.models.load_model`. If renaming is not possible, pass the object in the `custom_objects` parameter of the load function.\n",
            "WARNING:absl:<keras.layers.recurrent.LSTMCell object at 0x7fb7acb36990> has the same name 'LSTMCell' as a built-in Keras object. Consider renaming <class 'keras.layers.recurrent.LSTMCell'> to avoid naming conflicts when loading with `tf.keras.models.load_model`. If renaming is not possible, pass the object in the `custom_objects` parameter of the load function.\n"
          ]
        },
        {
          "metadata": {
            "tags": null
          },
          "name": "stdout",
          "output_type": "stream",
          "text": [
            "12/12 [==============================] - 7s 615ms/step - loss: 0.0128 - mae: 0.0843 - val_loss: 0.0091 - val_mae: 0.0729\n",
            "Epoch 14/100\n",
            "12/12 [==============================] - ETA: 0s - loss: 0.0116 - mae: 0.0811"
          ]
        },
        {
          "metadata": {
            "tags": null
          },
          "name": "stderr",
          "output_type": "stream",
          "text": [
            "WARNING:absl:Found untraced functions such as lstm_cell_layer_call_fn, lstm_cell_layer_call_and_return_conditional_losses while saving (showing 2 of 2). These functions will not be directly callable after loading.\n",
            "WARNING:absl:<keras.layers.recurrent.LSTMCell object at 0x7fb7acb4c8d0> has the same name 'LSTMCell' as a built-in Keras object. Consider renaming <class 'keras.layers.recurrent.LSTMCell'> to avoid naming conflicts when loading with `tf.keras.models.load_model`. If renaming is not possible, pass the object in the `custom_objects` parameter of the load function.\n",
            "WARNING:absl:<keras.layers.recurrent.LSTMCell object at 0x7fb7acb36990> has the same name 'LSTMCell' as a built-in Keras object. Consider renaming <class 'keras.layers.recurrent.LSTMCell'> to avoid naming conflicts when loading with `tf.keras.models.load_model`. If renaming is not possible, pass the object in the `custom_objects` parameter of the load function.\n"
          ]
        },
        {
          "metadata": {
            "tags": null
          },
          "name": "stdout",
          "output_type": "stream",
          "text": [
            "12/12 [==============================] - 6s 567ms/step - loss: 0.0116 - mae: 0.0811 - val_loss: 0.0086 - val_mae: 0.0695\n",
            "Epoch 15/100\n",
            "11/12 [==========================>...] - ETA: 0s - loss: 0.0128 - mae: 0.0818"
          ]
        },
        {
          "metadata": {
            "tags": null
          },
          "name": "stderr",
          "output_type": "stream",
          "text": [
            "WARNING:absl:Found untraced functions such as lstm_cell_layer_call_fn, lstm_cell_layer_call_and_return_conditional_losses while saving (showing 2 of 2). These functions will not be directly callable after loading.\n",
            "WARNING:absl:<keras.layers.recurrent.LSTMCell object at 0x7fb7acb4c8d0> has the same name 'LSTMCell' as a built-in Keras object. Consider renaming <class 'keras.layers.recurrent.LSTMCell'> to avoid naming conflicts when loading with `tf.keras.models.load_model`. If renaming is not possible, pass the object in the `custom_objects` parameter of the load function.\n",
            "WARNING:absl:<keras.layers.recurrent.LSTMCell object at 0x7fb7acb36990> has the same name 'LSTMCell' as a built-in Keras object. Consider renaming <class 'keras.layers.recurrent.LSTMCell'> to avoid naming conflicts when loading with `tf.keras.models.load_model`. If renaming is not possible, pass the object in the `custom_objects` parameter of the load function.\n"
          ]
        },
        {
          "metadata": {
            "tags": null
          },
          "name": "stdout",
          "output_type": "stream",
          "text": [
            "12/12 [==============================] - 7s 625ms/step - loss: 0.0125 - mae: 0.0811 - val_loss: 0.0082 - val_mae: 0.0676\n",
            "Epoch 16/100\n",
            "12/12 [==============================] - 1s 55ms/step - loss: 0.0118 - mae: 0.0788 - val_loss: 0.0084 - val_mae: 0.0674\n",
            "Epoch 17/100\n",
            "12/12 [==============================] - ETA: 0s - loss: 0.0110 - mae: 0.0760"
          ]
        },
        {
          "metadata": {
            "tags": null
          },
          "name": "stderr",
          "output_type": "stream",
          "text": [
            "WARNING:absl:Found untraced functions such as lstm_cell_layer_call_fn, lstm_cell_layer_call_and_return_conditional_losses while saving (showing 2 of 2). These functions will not be directly callable after loading.\n",
            "WARNING:absl:<keras.layers.recurrent.LSTMCell object at 0x7fb7acb4c8d0> has the same name 'LSTMCell' as a built-in Keras object. Consider renaming <class 'keras.layers.recurrent.LSTMCell'> to avoid naming conflicts when loading with `tf.keras.models.load_model`. If renaming is not possible, pass the object in the `custom_objects` parameter of the load function.\n",
            "WARNING:absl:<keras.layers.recurrent.LSTMCell object at 0x7fb7acb36990> has the same name 'LSTMCell' as a built-in Keras object. Consider renaming <class 'keras.layers.recurrent.LSTMCell'> to avoid naming conflicts when loading with `tf.keras.models.load_model`. If renaming is not possible, pass the object in the `custom_objects` parameter of the load function.\n"
          ]
        },
        {
          "metadata": {
            "tags": null
          },
          "name": "stdout",
          "output_type": "stream",
          "text": [
            "12/12 [==============================] - 7s 612ms/step - loss: 0.0110 - mae: 0.0760 - val_loss: 0.0082 - val_mae: 0.0671\n",
            "Epoch 18/100\n",
            "11/12 [==========================>...] - ETA: 0s - loss: 0.0115 - mae: 0.0771"
          ]
        },
        {
          "metadata": {
            "tags": null
          },
          "name": "stderr",
          "output_type": "stream",
          "text": [
            "WARNING:absl:Found untraced functions such as lstm_cell_layer_call_fn, lstm_cell_layer_call_and_return_conditional_losses while saving (showing 2 of 2). These functions will not be directly callable after loading.\n",
            "WARNING:absl:<keras.layers.recurrent.LSTMCell object at 0x7fb7acb4c8d0> has the same name 'LSTMCell' as a built-in Keras object. Consider renaming <class 'keras.layers.recurrent.LSTMCell'> to avoid naming conflicts when loading with `tf.keras.models.load_model`. If renaming is not possible, pass the object in the `custom_objects` parameter of the load function.\n",
            "WARNING:absl:<keras.layers.recurrent.LSTMCell object at 0x7fb7acb36990> has the same name 'LSTMCell' as a built-in Keras object. Consider renaming <class 'keras.layers.recurrent.LSTMCell'> to avoid naming conflicts when loading with `tf.keras.models.load_model`. If renaming is not possible, pass the object in the `custom_objects` parameter of the load function.\n"
          ]
        },
        {
          "metadata": {
            "tags": null
          },
          "name": "stdout",
          "output_type": "stream",
          "text": [
            "12/12 [==============================] - 7s 622ms/step - loss: 0.0114 - mae: 0.0767 - val_loss: 0.0081 - val_mae: 0.0671\n",
            "Epoch 19/100\n",
            "11/12 [==========================>...] - ETA: 0s - loss: 0.0104 - mae: 0.0739"
          ]
        },
        {
          "metadata": {
            "tags": null
          },
          "name": "stderr",
          "output_type": "stream",
          "text": [
            "WARNING:absl:Found untraced functions such as lstm_cell_layer_call_fn, lstm_cell_layer_call_and_return_conditional_losses while saving (showing 2 of 2). These functions will not be directly callable after loading.\n",
            "WARNING:absl:<keras.layers.recurrent.LSTMCell object at 0x7fb7acb4c8d0> has the same name 'LSTMCell' as a built-in Keras object. Consider renaming <class 'keras.layers.recurrent.LSTMCell'> to avoid naming conflicts when loading with `tf.keras.models.load_model`. If renaming is not possible, pass the object in the `custom_objects` parameter of the load function.\n",
            "WARNING:absl:<keras.layers.recurrent.LSTMCell object at 0x7fb7acb36990> has the same name 'LSTMCell' as a built-in Keras object. Consider renaming <class 'keras.layers.recurrent.LSTMCell'> to avoid naming conflicts when loading with `tf.keras.models.load_model`. If renaming is not possible, pass the object in the `custom_objects` parameter of the load function.\n"
          ]
        },
        {
          "metadata": {
            "tags": null
          },
          "name": "stdout",
          "output_type": "stream",
          "text": [
            "12/12 [==============================] - 7s 615ms/step - loss: 0.0106 - mae: 0.0745 - val_loss: 0.0079 - val_mae: 0.0666\n",
            "Epoch 20/100\n",
            "11/12 [==========================>...] - ETA: 0s - loss: 0.0107 - mae: 0.0746"
          ]
        },
        {
          "metadata": {
            "tags": null
          },
          "name": "stderr",
          "output_type": "stream",
          "text": [
            "WARNING:absl:Found untraced functions such as lstm_cell_layer_call_fn, lstm_cell_layer_call_and_return_conditional_losses while saving (showing 2 of 2). These functions will not be directly callable after loading.\n",
            "WARNING:absl:<keras.layers.recurrent.LSTMCell object at 0x7fb7acb4c8d0> has the same name 'LSTMCell' as a built-in Keras object. Consider renaming <class 'keras.layers.recurrent.LSTMCell'> to avoid naming conflicts when loading with `tf.keras.models.load_model`. If renaming is not possible, pass the object in the `custom_objects` parameter of the load function.\n",
            "WARNING:absl:<keras.layers.recurrent.LSTMCell object at 0x7fb7acb36990> has the same name 'LSTMCell' as a built-in Keras object. Consider renaming <class 'keras.layers.recurrent.LSTMCell'> to avoid naming conflicts when loading with `tf.keras.models.load_model`. If renaming is not possible, pass the object in the `custom_objects` parameter of the load function.\n"
          ]
        },
        {
          "metadata": {
            "tags": null
          },
          "name": "stdout",
          "output_type": "stream",
          "text": [
            "12/12 [==============================] - 7s 627ms/step - loss: 0.0106 - mae: 0.0743 - val_loss: 0.0078 - val_mae: 0.0661\n",
            "Epoch 21/100\n",
            "12/12 [==============================] - 1s 56ms/step - loss: 0.0103 - mae: 0.0730 - val_loss: 0.0080 - val_mae: 0.0658\n",
            "Epoch 22/100\n",
            "12/12 [==============================] - 1s 55ms/step - loss: 0.0110 - mae: 0.0746 - val_loss: 0.0079 - val_mae: 0.0657\n",
            "Epoch 23/100\n",
            "12/12 [==============================] - 1s 56ms/step - loss: 0.0107 - mae: 0.0732 - val_loss: 0.0080 - val_mae: 0.0659\n",
            "Epoch 24/100\n",
            "12/12 [==============================] - ETA: 0s - loss: 0.0101 - mae: 0.0721"
          ]
        },
        {
          "metadata": {
            "tags": null
          },
          "name": "stderr",
          "output_type": "stream",
          "text": [
            "WARNING:absl:Found untraced functions such as lstm_cell_layer_call_fn, lstm_cell_layer_call_and_return_conditional_losses while saving (showing 2 of 2). These functions will not be directly callable after loading.\n",
            "WARNING:absl:<keras.layers.recurrent.LSTMCell object at 0x7fb7acb4c8d0> has the same name 'LSTMCell' as a built-in Keras object. Consider renaming <class 'keras.layers.recurrent.LSTMCell'> to avoid naming conflicts when loading with `tf.keras.models.load_model`. If renaming is not possible, pass the object in the `custom_objects` parameter of the load function.\n",
            "WARNING:absl:<keras.layers.recurrent.LSTMCell object at 0x7fb7acb36990> has the same name 'LSTMCell' as a built-in Keras object. Consider renaming <class 'keras.layers.recurrent.LSTMCell'> to avoid naming conflicts when loading with `tf.keras.models.load_model`. If renaming is not possible, pass the object in the `custom_objects` parameter of the load function.\n"
          ]
        },
        {
          "metadata": {
            "tags": null
          },
          "name": "stdout",
          "output_type": "stream",
          "text": [
            "12/12 [==============================] - 7s 601ms/step - loss: 0.0101 - mae: 0.0721 - val_loss: 0.0077 - val_mae: 0.0655\n",
            "Epoch 25/100\n",
            "12/12 [==============================] - 1s 57ms/step - loss: 0.0099 - mae: 0.0714 - val_loss: 0.0079 - val_mae: 0.0654\n",
            "Epoch 26/100\n",
            "12/12 [==============================] - 1s 58ms/step - loss: 0.0109 - mae: 0.0731 - val_loss: 0.0078 - val_mae: 0.0652\n",
            "Epoch 27/100\n",
            "11/12 [==========================>...] - ETA: 0s - loss: 0.0099 - mae: 0.0718"
          ]
        },
        {
          "metadata": {
            "tags": null
          },
          "name": "stderr",
          "output_type": "stream",
          "text": [
            "WARNING:absl:Found untraced functions such as lstm_cell_layer_call_fn, lstm_cell_layer_call_and_return_conditional_losses while saving (showing 2 of 2). These functions will not be directly callable after loading.\n",
            "WARNING:absl:<keras.layers.recurrent.LSTMCell object at 0x7fb7acb4c8d0> has the same name 'LSTMCell' as a built-in Keras object. Consider renaming <class 'keras.layers.recurrent.LSTMCell'> to avoid naming conflicts when loading with `tf.keras.models.load_model`. If renaming is not possible, pass the object in the `custom_objects` parameter of the load function.\n",
            "WARNING:absl:<keras.layers.recurrent.LSTMCell object at 0x7fb7acb36990> has the same name 'LSTMCell' as a built-in Keras object. Consider renaming <class 'keras.layers.recurrent.LSTMCell'> to avoid naming conflicts when loading with `tf.keras.models.load_model`. If renaming is not possible, pass the object in the `custom_objects` parameter of the load function.\n"
          ]
        },
        {
          "metadata": {
            "tags": null
          },
          "name": "stdout",
          "output_type": "stream",
          "text": [
            "12/12 [==============================] - 7s 609ms/step - loss: 0.0098 - mae: 0.0712 - val_loss: 0.0077 - val_mae: 0.0650\n",
            "Epoch 28/100\n",
            "12/12 [==============================] - 1s 55ms/step - loss: 0.0105 - mae: 0.0725 - val_loss: 0.0078 - val_mae: 0.0651\n",
            "Epoch 29/100\n",
            "11/12 [==========================>...] - ETA: 0s - loss: 0.0099 - mae: 0.0709"
          ]
        },
        {
          "metadata": {
            "tags": null
          },
          "name": "stderr",
          "output_type": "stream",
          "text": [
            "WARNING:absl:Found untraced functions such as lstm_cell_layer_call_fn, lstm_cell_layer_call_and_return_conditional_losses while saving (showing 2 of 2). These functions will not be directly callable after loading.\n",
            "WARNING:absl:<keras.layers.recurrent.LSTMCell object at 0x7fb7acb4c8d0> has the same name 'LSTMCell' as a built-in Keras object. Consider renaming <class 'keras.layers.recurrent.LSTMCell'> to avoid naming conflicts when loading with `tf.keras.models.load_model`. If renaming is not possible, pass the object in the `custom_objects` parameter of the load function.\n",
            "WARNING:absl:<keras.layers.recurrent.LSTMCell object at 0x7fb7acb36990> has the same name 'LSTMCell' as a built-in Keras object. Consider renaming <class 'keras.layers.recurrent.LSTMCell'> to avoid naming conflicts when loading with `tf.keras.models.load_model`. If renaming is not possible, pass the object in the `custom_objects` parameter of the load function.\n"
          ]
        },
        {
          "metadata": {
            "tags": null
          },
          "name": "stdout",
          "output_type": "stream",
          "text": [
            "12/12 [==============================] - 6s 566ms/step - loss: 0.0099 - mae: 0.0713 - val_loss: 0.0077 - val_mae: 0.0650\n",
            "Epoch 30/100\n",
            "12/12 [==============================] - 1s 57ms/step - loss: 0.0093 - mae: 0.0702 - val_loss: 0.0078 - val_mae: 0.0650\n",
            "Epoch 31/100\n",
            "11/12 [==========================>...] - ETA: 0s - loss: 0.0098 - mae: 0.0694"
          ]
        },
        {
          "metadata": {
            "tags": null
          },
          "name": "stderr",
          "output_type": "stream",
          "text": [
            "WARNING:absl:Found untraced functions such as lstm_cell_layer_call_fn, lstm_cell_layer_call_and_return_conditional_losses while saving (showing 2 of 2). These functions will not be directly callable after loading.\n",
            "WARNING:absl:<keras.layers.recurrent.LSTMCell object at 0x7fb7acb4c8d0> has the same name 'LSTMCell' as a built-in Keras object. Consider renaming <class 'keras.layers.recurrent.LSTMCell'> to avoid naming conflicts when loading with `tf.keras.models.load_model`. If renaming is not possible, pass the object in the `custom_objects` parameter of the load function.\n",
            "WARNING:absl:<keras.layers.recurrent.LSTMCell object at 0x7fb7acb36990> has the same name 'LSTMCell' as a built-in Keras object. Consider renaming <class 'keras.layers.recurrent.LSTMCell'> to avoid naming conflicts when loading with `tf.keras.models.load_model`. If renaming is not possible, pass the object in the `custom_objects` parameter of the load function.\n"
          ]
        },
        {
          "metadata": {
            "tags": null
          },
          "name": "stdout",
          "output_type": "stream",
          "text": [
            "12/12 [==============================] - 7s 629ms/step - loss: 0.0099 - mae: 0.0700 - val_loss: 0.0076 - val_mae: 0.0648\n",
            "Epoch 32/100\n",
            "12/12 [==============================] - 1s 56ms/step - loss: 0.0097 - mae: 0.0702 - val_loss: 0.0078 - val_mae: 0.0648\n",
            "Epoch 33/100\n",
            "11/12 [==========================>...] - ETA: 0s - loss: 0.0095 - mae: 0.0707"
          ]
        },
        {
          "metadata": {
            "tags": null
          },
          "name": "stderr",
          "output_type": "stream",
          "text": [
            "WARNING:absl:Found untraced functions such as lstm_cell_layer_call_fn, lstm_cell_layer_call_and_return_conditional_losses while saving (showing 2 of 2). These functions will not be directly callable after loading.\n",
            "WARNING:absl:<keras.layers.recurrent.LSTMCell object at 0x7fb7acb4c8d0> has the same name 'LSTMCell' as a built-in Keras object. Consider renaming <class 'keras.layers.recurrent.LSTMCell'> to avoid naming conflicts when loading with `tf.keras.models.load_model`. If renaming is not possible, pass the object in the `custom_objects` parameter of the load function.\n",
            "WARNING:absl:<keras.layers.recurrent.LSTMCell object at 0x7fb7acb36990> has the same name 'LSTMCell' as a built-in Keras object. Consider renaming <class 'keras.layers.recurrent.LSTMCell'> to avoid naming conflicts when loading with `tf.keras.models.load_model`. If renaming is not possible, pass the object in the `custom_objects` parameter of the load function.\n"
          ]
        },
        {
          "metadata": {
            "tags": null
          },
          "name": "stdout",
          "output_type": "stream",
          "text": [
            "12/12 [==============================] - 7s 611ms/step - loss: 0.0097 - mae: 0.0713 - val_loss: 0.0075 - val_mae: 0.0643\n",
            "Epoch 34/100\n",
            "12/12 [==============================] - 1s 57ms/step - loss: 0.0095 - mae: 0.0697 - val_loss: 0.0079 - val_mae: 0.0645\n",
            "Epoch 35/100\n",
            "12/12 [==============================] - 1s 56ms/step - loss: 0.0102 - mae: 0.0704 - val_loss: 0.0075 - val_mae: 0.0643\n",
            "Epoch 36/100\n",
            "12/12 [==============================] - 1s 57ms/step - loss: 0.0096 - mae: 0.0698 - val_loss: 0.0077 - val_mae: 0.0643\n",
            "Epoch 37/100\n",
            "11/12 [==========================>...] - ETA: 0s - loss: 0.0094 - mae: 0.0681"
          ]
        },
        {
          "metadata": {
            "tags": null
          },
          "name": "stderr",
          "output_type": "stream",
          "text": [
            "WARNING:absl:Found untraced functions such as lstm_cell_layer_call_fn, lstm_cell_layer_call_and_return_conditional_losses while saving (showing 2 of 2). These functions will not be directly callable after loading.\n",
            "WARNING:absl:<keras.layers.recurrent.LSTMCell object at 0x7fb7acb4c8d0> has the same name 'LSTMCell' as a built-in Keras object. Consider renaming <class 'keras.layers.recurrent.LSTMCell'> to avoid naming conflicts when loading with `tf.keras.models.load_model`. If renaming is not possible, pass the object in the `custom_objects` parameter of the load function.\n",
            "WARNING:absl:<keras.layers.recurrent.LSTMCell object at 0x7fb7acb36990> has the same name 'LSTMCell' as a built-in Keras object. Consider renaming <class 'keras.layers.recurrent.LSTMCell'> to avoid naming conflicts when loading with `tf.keras.models.load_model`. If renaming is not possible, pass the object in the `custom_objects` parameter of the load function.\n"
          ]
        },
        {
          "metadata": {
            "tags": null
          },
          "name": "stdout",
          "output_type": "stream",
          "text": [
            "12/12 [==============================] - 7s 615ms/step - loss: 0.0092 - mae: 0.0677 - val_loss: 0.0075 - val_mae: 0.0640\n",
            "Epoch 38/100\n",
            "12/12 [==============================] - ETA: 0s - loss: 0.0089 - mae: 0.0670"
          ]
        },
        {
          "metadata": {
            "tags": null
          },
          "name": "stderr",
          "output_type": "stream",
          "text": [
            "WARNING:absl:Found untraced functions such as lstm_cell_layer_call_fn, lstm_cell_layer_call_and_return_conditional_losses while saving (showing 2 of 2). These functions will not be directly callable after loading.\n",
            "WARNING:absl:<keras.layers.recurrent.LSTMCell object at 0x7fb7acb4c8d0> has the same name 'LSTMCell' as a built-in Keras object. Consider renaming <class 'keras.layers.recurrent.LSTMCell'> to avoid naming conflicts when loading with `tf.keras.models.load_model`. If renaming is not possible, pass the object in the `custom_objects` parameter of the load function.\n",
            "WARNING:absl:<keras.layers.recurrent.LSTMCell object at 0x7fb7acb36990> has the same name 'LSTMCell' as a built-in Keras object. Consider renaming <class 'keras.layers.recurrent.LSTMCell'> to avoid naming conflicts when loading with `tf.keras.models.load_model`. If renaming is not possible, pass the object in the `custom_objects` parameter of the load function.\n"
          ]
        },
        {
          "metadata": {
            "tags": null
          },
          "name": "stdout",
          "output_type": "stream",
          "text": [
            "12/12 [==============================] - 6s 579ms/step - loss: 0.0089 - mae: 0.0670 - val_loss: 0.0074 - val_mae: 0.0639\n",
            "Epoch 39/100\n",
            "12/12 [==============================] - 1s 59ms/step - loss: 0.0089 - mae: 0.0674 - val_loss: 0.0075 - val_mae: 0.0636\n",
            "Epoch 40/100\n",
            "11/12 [==========================>...] - ETA: 0s - loss: 0.0094 - mae: 0.0686"
          ]
        },
        {
          "metadata": {
            "tags": null
          },
          "name": "stderr",
          "output_type": "stream",
          "text": [
            "WARNING:absl:Found untraced functions such as lstm_cell_layer_call_fn, lstm_cell_layer_call_and_return_conditional_losses while saving (showing 2 of 2). These functions will not be directly callable after loading.\n",
            "WARNING:absl:<keras.layers.recurrent.LSTMCell object at 0x7fb7acb4c8d0> has the same name 'LSTMCell' as a built-in Keras object. Consider renaming <class 'keras.layers.recurrent.LSTMCell'> to avoid naming conflicts when loading with `tf.keras.models.load_model`. If renaming is not possible, pass the object in the `custom_objects` parameter of the load function.\n",
            "WARNING:absl:<keras.layers.recurrent.LSTMCell object at 0x7fb7acb36990> has the same name 'LSTMCell' as a built-in Keras object. Consider renaming <class 'keras.layers.recurrent.LSTMCell'> to avoid naming conflicts when loading with `tf.keras.models.load_model`. If renaming is not possible, pass the object in the `custom_objects` parameter of the load function.\n"
          ]
        },
        {
          "metadata": {
            "tags": null
          },
          "name": "stdout",
          "output_type": "stream",
          "text": [
            "12/12 [==============================] - 7s 631ms/step - loss: 0.0092 - mae: 0.0681 - val_loss: 0.0074 - val_mae: 0.0636\n",
            "Epoch 41/100\n",
            "12/12 [==============================] - 1s 59ms/step - loss: 0.0089 - mae: 0.0678 - val_loss: 0.0075 - val_mae: 0.0634\n",
            "Epoch 42/100\n",
            "11/12 [==========================>...] - ETA: 0s - loss: 0.0094 - mae: 0.0674"
          ]
        },
        {
          "metadata": {
            "tags": null
          },
          "name": "stderr",
          "output_type": "stream",
          "text": [
            "WARNING:absl:Found untraced functions such as lstm_cell_layer_call_fn, lstm_cell_layer_call_and_return_conditional_losses while saving (showing 2 of 2). These functions will not be directly callable after loading.\n",
            "WARNING:absl:<keras.layers.recurrent.LSTMCell object at 0x7fb7acb4c8d0> has the same name 'LSTMCell' as a built-in Keras object. Consider renaming <class 'keras.layers.recurrent.LSTMCell'> to avoid naming conflicts when loading with `tf.keras.models.load_model`. If renaming is not possible, pass the object in the `custom_objects` parameter of the load function.\n",
            "WARNING:absl:<keras.layers.recurrent.LSTMCell object at 0x7fb7acb36990> has the same name 'LSTMCell' as a built-in Keras object. Consider renaming <class 'keras.layers.recurrent.LSTMCell'> to avoid naming conflicts when loading with `tf.keras.models.load_model`. If renaming is not possible, pass the object in the `custom_objects` parameter of the load function.\n"
          ]
        },
        {
          "metadata": {
            "tags": null
          },
          "name": "stdout",
          "output_type": "stream",
          "text": [
            "12/12 [==============================] - 7s 619ms/step - loss: 0.0091 - mae: 0.0667 - val_loss: 0.0074 - val_mae: 0.0633\n",
            "Epoch 43/100\n",
            "12/12 [==============================] - 1s 56ms/step - loss: 0.0090 - mae: 0.0677 - val_loss: 0.0074 - val_mae: 0.0633\n",
            "Epoch 44/100\n",
            "12/12 [==============================] - 1s 59ms/step - loss: 0.0089 - mae: 0.0678 - val_loss: 0.0074 - val_mae: 0.0632\n",
            "Epoch 45/100\n",
            "12/12 [==============================] - 1s 58ms/step - loss: 0.0094 - mae: 0.0684 - val_loss: 0.0074 - val_mae: 0.0633\n",
            "Epoch 46/100\n",
            "12/12 [==============================] - 1s 56ms/step - loss: 0.0091 - mae: 0.0675 - val_loss: 0.0074 - val_mae: 0.0633\n",
            "Epoch 47/100\n",
            "12/12 [==============================] - 1s 59ms/step - loss: 0.0092 - mae: 0.0683 - val_loss: 0.0074 - val_mae: 0.0632\n",
            "Epoch 48/100\n",
            "11/12 [==========================>...] - ETA: 0s - loss: 0.0089 - mae: 0.0671"
          ]
        },
        {
          "metadata": {
            "tags": null
          },
          "name": "stderr",
          "output_type": "stream",
          "text": [
            "WARNING:absl:Found untraced functions such as lstm_cell_layer_call_fn, lstm_cell_layer_call_and_return_conditional_losses while saving (showing 2 of 2). These functions will not be directly callable after loading.\n",
            "WARNING:absl:<keras.layers.recurrent.LSTMCell object at 0x7fb7acb4c8d0> has the same name 'LSTMCell' as a built-in Keras object. Consider renaming <class 'keras.layers.recurrent.LSTMCell'> to avoid naming conflicts when loading with `tf.keras.models.load_model`. If renaming is not possible, pass the object in the `custom_objects` parameter of the load function.\n",
            "WARNING:absl:<keras.layers.recurrent.LSTMCell object at 0x7fb7acb36990> has the same name 'LSTMCell' as a built-in Keras object. Consider renaming <class 'keras.layers.recurrent.LSTMCell'> to avoid naming conflicts when loading with `tf.keras.models.load_model`. If renaming is not possible, pass the object in the `custom_objects` parameter of the load function.\n"
          ]
        },
        {
          "metadata": {
            "tags": null
          },
          "name": "stdout",
          "output_type": "stream",
          "text": [
            "12/12 [==============================] - 7s 608ms/step - loss: 0.0090 - mae: 0.0671 - val_loss: 0.0073 - val_mae: 0.0630\n",
            "Epoch 49/100\n",
            "11/12 [==========================>...] - ETA: 0s - loss: 0.0090 - mae: 0.0676"
          ]
        },
        {
          "metadata": {
            "tags": null
          },
          "name": "stderr",
          "output_type": "stream",
          "text": [
            "WARNING:absl:Found untraced functions such as lstm_cell_layer_call_fn, lstm_cell_layer_call_and_return_conditional_losses while saving (showing 2 of 2). These functions will not be directly callable after loading.\n",
            "WARNING:absl:<keras.layers.recurrent.LSTMCell object at 0x7fb7acb4c8d0> has the same name 'LSTMCell' as a built-in Keras object. Consider renaming <class 'keras.layers.recurrent.LSTMCell'> to avoid naming conflicts when loading with `tf.keras.models.load_model`. If renaming is not possible, pass the object in the `custom_objects` parameter of the load function.\n",
            "WARNING:absl:<keras.layers.recurrent.LSTMCell object at 0x7fb7acb36990> has the same name 'LSTMCell' as a built-in Keras object. Consider renaming <class 'keras.layers.recurrent.LSTMCell'> to avoid naming conflicts when loading with `tf.keras.models.load_model`. If renaming is not possible, pass the object in the `custom_objects` parameter of the load function.\n"
          ]
        },
        {
          "metadata": {
            "tags": null
          },
          "name": "stdout",
          "output_type": "stream",
          "text": [
            "12/12 [==============================] - 6s 577ms/step - loss: 0.0089 - mae: 0.0669 - val_loss: 0.0072 - val_mae: 0.0629\n",
            "Epoch 50/100\n",
            "12/12 [==============================] - 1s 59ms/step - loss: 0.0088 - mae: 0.0670 - val_loss: 0.0072 - val_mae: 0.0626\n",
            "Epoch 51/100\n",
            "12/12 [==============================] - 1s 62ms/step - loss: 0.0089 - mae: 0.0668 - val_loss: 0.0073 - val_mae: 0.0627\n",
            "Epoch 52/100\n",
            "12/12 [==============================] - ETA: 0s - loss: 0.0087 - mae: 0.0662"
          ]
        },
        {
          "metadata": {
            "tags": null
          },
          "name": "stderr",
          "output_type": "stream",
          "text": [
            "WARNING:absl:Found untraced functions such as lstm_cell_layer_call_fn, lstm_cell_layer_call_and_return_conditional_losses while saving (showing 2 of 2). These functions will not be directly callable after loading.\n",
            "WARNING:absl:<keras.layers.recurrent.LSTMCell object at 0x7fb7acb4c8d0> has the same name 'LSTMCell' as a built-in Keras object. Consider renaming <class 'keras.layers.recurrent.LSTMCell'> to avoid naming conflicts when loading with `tf.keras.models.load_model`. If renaming is not possible, pass the object in the `custom_objects` parameter of the load function.\n",
            "WARNING:absl:<keras.layers.recurrent.LSTMCell object at 0x7fb7acb36990> has the same name 'LSTMCell' as a built-in Keras object. Consider renaming <class 'keras.layers.recurrent.LSTMCell'> to avoid naming conflicts when loading with `tf.keras.models.load_model`. If renaming is not possible, pass the object in the `custom_objects` parameter of the load function.\n"
          ]
        },
        {
          "metadata": {
            "tags": null
          },
          "name": "stdout",
          "output_type": "stream",
          "text": [
            "12/12 [==============================] - 7s 631ms/step - loss: 0.0087 - mae: 0.0662 - val_loss: 0.0072 - val_mae: 0.0627\n",
            "Epoch 53/100\n",
            "12/12 [==============================] - 1s 58ms/step - loss: 0.0087 - mae: 0.0659 - val_loss: 0.0072 - val_mae: 0.0626\n",
            "Epoch 54/100\n",
            "12/12 [==============================] - ETA: 0s - loss: 0.0088 - mae: 0.0669"
          ]
        },
        {
          "metadata": {
            "tags": null
          },
          "name": "stderr",
          "output_type": "stream",
          "text": [
            "WARNING:absl:Found untraced functions such as lstm_cell_layer_call_fn, lstm_cell_layer_call_and_return_conditional_losses while saving (showing 2 of 2). These functions will not be directly callable after loading.\n",
            "WARNING:absl:<keras.layers.recurrent.LSTMCell object at 0x7fb7acb4c8d0> has the same name 'LSTMCell' as a built-in Keras object. Consider renaming <class 'keras.layers.recurrent.LSTMCell'> to avoid naming conflicts when loading with `tf.keras.models.load_model`. If renaming is not possible, pass the object in the `custom_objects` parameter of the load function.\n",
            "WARNING:absl:<keras.layers.recurrent.LSTMCell object at 0x7fb7acb36990> has the same name 'LSTMCell' as a built-in Keras object. Consider renaming <class 'keras.layers.recurrent.LSTMCell'> to avoid naming conflicts when loading with `tf.keras.models.load_model`. If renaming is not possible, pass the object in the `custom_objects` parameter of the load function.\n"
          ]
        },
        {
          "metadata": {
            "tags": null
          },
          "name": "stdout",
          "output_type": "stream",
          "text": [
            "12/12 [==============================] - 7s 610ms/step - loss: 0.0088 - mae: 0.0669 - val_loss: 0.0071 - val_mae: 0.0624\n",
            "Epoch 55/100\n",
            "12/12 [==============================] - 1s 61ms/step - loss: 0.0091 - mae: 0.0678 - val_loss: 0.0072 - val_mae: 0.0622\n",
            "Epoch 56/100\n",
            "12/12 [==============================] - 1s 58ms/step - loss: 0.0089 - mae: 0.0659 - val_loss: 0.0071 - val_mae: 0.0623\n",
            "Epoch 57/100\n",
            "12/12 [==============================] - ETA: 0s - loss: 0.0084 - mae: 0.0651"
          ]
        },
        {
          "metadata": {
            "tags": null
          },
          "name": "stderr",
          "output_type": "stream",
          "text": [
            "WARNING:absl:Found untraced functions such as lstm_cell_layer_call_fn, lstm_cell_layer_call_and_return_conditional_losses while saving (showing 2 of 2). These functions will not be directly callable after loading.\n",
            "WARNING:absl:<keras.layers.recurrent.LSTMCell object at 0x7fb7acb4c8d0> has the same name 'LSTMCell' as a built-in Keras object. Consider renaming <class 'keras.layers.recurrent.LSTMCell'> to avoid naming conflicts when loading with `tf.keras.models.load_model`. If renaming is not possible, pass the object in the `custom_objects` parameter of the load function.\n",
            "WARNING:absl:<keras.layers.recurrent.LSTMCell object at 0x7fb7acb36990> has the same name 'LSTMCell' as a built-in Keras object. Consider renaming <class 'keras.layers.recurrent.LSTMCell'> to avoid naming conflicts when loading with `tf.keras.models.load_model`. If renaming is not possible, pass the object in the `custom_objects` parameter of the load function.\n"
          ]
        },
        {
          "metadata": {
            "tags": null
          },
          "name": "stdout",
          "output_type": "stream",
          "text": [
            "12/12 [==============================] - 7s 618ms/step - loss: 0.0084 - mae: 0.0651 - val_loss: 0.0070 - val_mae: 0.0622\n",
            "Epoch 58/100\n",
            "12/12 [==============================] - ETA: 0s - loss: 0.0087 - mae: 0.0655"
          ]
        },
        {
          "metadata": {
            "tags": null
          },
          "name": "stderr",
          "output_type": "stream",
          "text": [
            "WARNING:absl:Found untraced functions such as lstm_cell_layer_call_fn, lstm_cell_layer_call_and_return_conditional_losses while saving (showing 2 of 2). These functions will not be directly callable after loading.\n",
            "WARNING:absl:<keras.layers.recurrent.LSTMCell object at 0x7fb7acb4c8d0> has the same name 'LSTMCell' as a built-in Keras object. Consider renaming <class 'keras.layers.recurrent.LSTMCell'> to avoid naming conflicts when loading with `tf.keras.models.load_model`. If renaming is not possible, pass the object in the `custom_objects` parameter of the load function.\n",
            "WARNING:absl:<keras.layers.recurrent.LSTMCell object at 0x7fb7acb36990> has the same name 'LSTMCell' as a built-in Keras object. Consider renaming <class 'keras.layers.recurrent.LSTMCell'> to avoid naming conflicts when loading with `tf.keras.models.load_model`. If renaming is not possible, pass the object in the `custom_objects` parameter of the load function.\n"
          ]
        },
        {
          "metadata": {
            "tags": null
          },
          "name": "stdout",
          "output_type": "stream",
          "text": [
            "12/12 [==============================] - 6s 573ms/step - loss: 0.0087 - mae: 0.0655 - val_loss: 0.0070 - val_mae: 0.0621\n",
            "Epoch 59/100\n",
            "12/12 [==============================] - 1s 60ms/step - loss: 0.0086 - mae: 0.0658 - val_loss: 0.0071 - val_mae: 0.0620\n",
            "Epoch 60/100\n",
            "12/12 [==============================] - 1s 61ms/step - loss: 0.0089 - mae: 0.0668 - val_loss: 0.0070 - val_mae: 0.0622\n",
            "Epoch 61/100\n",
            "12/12 [==============================] - 1s 60ms/step - loss: 0.0088 - mae: 0.0675 - val_loss: 0.0071 - val_mae: 0.0621\n",
            "Epoch 62/100\n",
            "12/12 [==============================] - ETA: 0s - loss: 0.0083 - mae: 0.0653"
          ]
        },
        {
          "metadata": {
            "tags": null
          },
          "name": "stderr",
          "output_type": "stream",
          "text": [
            "WARNING:absl:Found untraced functions such as lstm_cell_layer_call_fn, lstm_cell_layer_call_and_return_conditional_losses while saving (showing 2 of 2). These functions will not be directly callable after loading.\n",
            "WARNING:absl:<keras.layers.recurrent.LSTMCell object at 0x7fb7acb4c8d0> has the same name 'LSTMCell' as a built-in Keras object. Consider renaming <class 'keras.layers.recurrent.LSTMCell'> to avoid naming conflicts when loading with `tf.keras.models.load_model`. If renaming is not possible, pass the object in the `custom_objects` parameter of the load function.\n",
            "WARNING:absl:<keras.layers.recurrent.LSTMCell object at 0x7fb7acb36990> has the same name 'LSTMCell' as a built-in Keras object. Consider renaming <class 'keras.layers.recurrent.LSTMCell'> to avoid naming conflicts when loading with `tf.keras.models.load_model`. If renaming is not possible, pass the object in the `custom_objects` parameter of the load function.\n"
          ]
        },
        {
          "metadata": {
            "tags": null
          },
          "name": "stdout",
          "output_type": "stream",
          "text": [
            "12/12 [==============================] - 7s 635ms/step - loss: 0.0083 - mae: 0.0653 - val_loss: 0.0069 - val_mae: 0.0621\n",
            "Epoch 63/100\n",
            "12/12 [==============================] - 1s 58ms/step - loss: 0.0081 - mae: 0.0639 - val_loss: 0.0071 - val_mae: 0.0619\n",
            "Epoch 64/100\n",
            "12/12 [==============================] - 1s 59ms/step - loss: 0.0087 - mae: 0.0661 - val_loss: 0.0069 - val_mae: 0.0616\n",
            "Epoch 65/100\n",
            "12/12 [==============================] - 1s 57ms/step - loss: 0.0081 - mae: 0.0639 - val_loss: 0.0070 - val_mae: 0.0620\n",
            "Epoch 66/100\n",
            "12/12 [==============================] - 1s 59ms/step - loss: 0.0083 - mae: 0.0652 - val_loss: 0.0069 - val_mae: 0.0615\n",
            "Epoch 67/100\n",
            "12/12 [==============================] - 1s 59ms/step - loss: 0.0081 - mae: 0.0641 - val_loss: 0.0070 - val_mae: 0.0613\n",
            "Epoch 68/100\n",
            "12/12 [==============================] - 1s 59ms/step - loss: 0.0086 - mae: 0.0664 - val_loss: 0.0070 - val_mae: 0.0616\n",
            "Epoch 69/100\n",
            "12/12 [==============================] - ETA: 0s - loss: 0.0079 - mae: 0.0626"
          ]
        },
        {
          "metadata": {
            "tags": null
          },
          "name": "stderr",
          "output_type": "stream",
          "text": [
            "WARNING:absl:Found untraced functions such as lstm_cell_layer_call_fn, lstm_cell_layer_call_and_return_conditional_losses while saving (showing 2 of 2). These functions will not be directly callable after loading.\n",
            "WARNING:absl:<keras.layers.recurrent.LSTMCell object at 0x7fb7acb4c8d0> has the same name 'LSTMCell' as a built-in Keras object. Consider renaming <class 'keras.layers.recurrent.LSTMCell'> to avoid naming conflicts when loading with `tf.keras.models.load_model`. If renaming is not possible, pass the object in the `custom_objects` parameter of the load function.\n",
            "WARNING:absl:<keras.layers.recurrent.LSTMCell object at 0x7fb7acb36990> has the same name 'LSTMCell' as a built-in Keras object. Consider renaming <class 'keras.layers.recurrent.LSTMCell'> to avoid naming conflicts when loading with `tf.keras.models.load_model`. If renaming is not possible, pass the object in the `custom_objects` parameter of the load function.\n"
          ]
        },
        {
          "metadata": {
            "tags": null
          },
          "name": "stdout",
          "output_type": "stream",
          "text": [
            "12/12 [==============================] - 7s 617ms/step - loss: 0.0079 - mae: 0.0626 - val_loss: 0.0069 - val_mae: 0.0615\n",
            "Epoch 70/100\n",
            "11/12 [==========================>...] - ETA: 0s - loss: 0.0078 - mae: 0.0638"
          ]
        },
        {
          "metadata": {
            "tags": null
          },
          "name": "stderr",
          "output_type": "stream",
          "text": [
            "WARNING:absl:Found untraced functions such as lstm_cell_layer_call_fn, lstm_cell_layer_call_and_return_conditional_losses while saving (showing 2 of 2). These functions will not be directly callable after loading.\n",
            "WARNING:absl:<keras.layers.recurrent.LSTMCell object at 0x7fb7acb4c8d0> has the same name 'LSTMCell' as a built-in Keras object. Consider renaming <class 'keras.layers.recurrent.LSTMCell'> to avoid naming conflicts when loading with `tf.keras.models.load_model`. If renaming is not possible, pass the object in the `custom_objects` parameter of the load function.\n",
            "WARNING:absl:<keras.layers.recurrent.LSTMCell object at 0x7fb7acb36990> has the same name 'LSTMCell' as a built-in Keras object. Consider renaming <class 'keras.layers.recurrent.LSTMCell'> to avoid naming conflicts when loading with `tf.keras.models.load_model`. If renaming is not possible, pass the object in the `custom_objects` parameter of the load function.\n"
          ]
        },
        {
          "metadata": {
            "tags": null
          },
          "name": "stdout",
          "output_type": "stream",
          "text": [
            "12/12 [==============================] - 7s 658ms/step - loss: 0.0078 - mae: 0.0636 - val_loss: 0.0068 - val_mae: 0.0615\n",
            "Epoch 71/100\n",
            "12/12 [==============================] - 1s 58ms/step - loss: 0.0083 - mae: 0.0643 - val_loss: 0.0069 - val_mae: 0.0612\n",
            "Epoch 72/100\n",
            "12/12 [==============================] - 1s 56ms/step - loss: 0.0081 - mae: 0.0640 - val_loss: 0.0070 - val_mae: 0.0614\n",
            "Epoch 73/100\n",
            "12/12 [==============================] - 1s 59ms/step - loss: 0.0085 - mae: 0.0658 - val_loss: 0.0068 - val_mae: 0.0613\n",
            "Epoch 74/100\n",
            "12/12 [==============================] - ETA: 0s - loss: 0.0083 - mae: 0.0641"
          ]
        },
        {
          "metadata": {
            "tags": null
          },
          "name": "stderr",
          "output_type": "stream",
          "text": [
            "WARNING:absl:Found untraced functions such as lstm_cell_layer_call_fn, lstm_cell_layer_call_and_return_conditional_losses while saving (showing 2 of 2). These functions will not be directly callable after loading.\n",
            "WARNING:absl:<keras.layers.recurrent.LSTMCell object at 0x7fb7acb4c8d0> has the same name 'LSTMCell' as a built-in Keras object. Consider renaming <class 'keras.layers.recurrent.LSTMCell'> to avoid naming conflicts when loading with `tf.keras.models.load_model`. If renaming is not possible, pass the object in the `custom_objects` parameter of the load function.\n",
            "WARNING:absl:<keras.layers.recurrent.LSTMCell object at 0x7fb7acb36990> has the same name 'LSTMCell' as a built-in Keras object. Consider renaming <class 'keras.layers.recurrent.LSTMCell'> to avoid naming conflicts when loading with `tf.keras.models.load_model`. If renaming is not possible, pass the object in the `custom_objects` parameter of the load function.\n"
          ]
        },
        {
          "metadata": {
            "tags": null
          },
          "name": "stdout",
          "output_type": "stream",
          "text": [
            "12/12 [==============================] - 6s 578ms/step - loss: 0.0083 - mae: 0.0641 - val_loss: 0.0068 - val_mae: 0.0608\n",
            "Epoch 75/100\n",
            "11/12 [==========================>...] - ETA: 0s - loss: 0.0078 - mae: 0.0636"
          ]
        },
        {
          "metadata": {
            "tags": null
          },
          "name": "stderr",
          "output_type": "stream",
          "text": [
            "WARNING:absl:Found untraced functions such as lstm_cell_layer_call_fn, lstm_cell_layer_call_and_return_conditional_losses while saving (showing 2 of 2). These functions will not be directly callable after loading.\n",
            "WARNING:absl:<keras.layers.recurrent.LSTMCell object at 0x7fb7acb4c8d0> has the same name 'LSTMCell' as a built-in Keras object. Consider renaming <class 'keras.layers.recurrent.LSTMCell'> to avoid naming conflicts when loading with `tf.keras.models.load_model`. If renaming is not possible, pass the object in the `custom_objects` parameter of the load function.\n",
            "WARNING:absl:<keras.layers.recurrent.LSTMCell object at 0x7fb7acb36990> has the same name 'LSTMCell' as a built-in Keras object. Consider renaming <class 'keras.layers.recurrent.LSTMCell'> to avoid naming conflicts when loading with `tf.keras.models.load_model`. If renaming is not possible, pass the object in the `custom_objects` parameter of the load function.\n"
          ]
        },
        {
          "metadata": {
            "tags": null
          },
          "name": "stdout",
          "output_type": "stream",
          "text": [
            "12/12 [==============================] - 7s 634ms/step - loss: 0.0079 - mae: 0.0637 - val_loss: 0.0067 - val_mae: 0.0607\n",
            "Epoch 76/100\n",
            "12/12 [==============================] - ETA: 0s - loss: 0.0077 - mae: 0.0631"
          ]
        },
        {
          "metadata": {
            "tags": null
          },
          "name": "stderr",
          "output_type": "stream",
          "text": [
            "WARNING:absl:Found untraced functions such as lstm_cell_layer_call_fn, lstm_cell_layer_call_and_return_conditional_losses while saving (showing 2 of 2). These functions will not be directly callable after loading.\n",
            "WARNING:absl:<keras.layers.recurrent.LSTMCell object at 0x7fb7acb4c8d0> has the same name 'LSTMCell' as a built-in Keras object. Consider renaming <class 'keras.layers.recurrent.LSTMCell'> to avoid naming conflicts when loading with `tf.keras.models.load_model`. If renaming is not possible, pass the object in the `custom_objects` parameter of the load function.\n",
            "WARNING:absl:<keras.layers.recurrent.LSTMCell object at 0x7fb7acb36990> has the same name 'LSTMCell' as a built-in Keras object. Consider renaming <class 'keras.layers.recurrent.LSTMCell'> to avoid naming conflicts when loading with `tf.keras.models.load_model`. If renaming is not possible, pass the object in the `custom_objects` parameter of the load function.\n"
          ]
        },
        {
          "metadata": {
            "tags": null
          },
          "name": "stdout",
          "output_type": "stream",
          "text": [
            "12/12 [==============================] - 7s 614ms/step - loss: 0.0077 - mae: 0.0631 - val_loss: 0.0066 - val_mae: 0.0607\n",
            "Epoch 77/100\n",
            "12/12 [==============================] - 1s 59ms/step - loss: 0.0086 - mae: 0.0647 - val_loss: 0.0067 - val_mae: 0.0604\n",
            "Epoch 78/100\n",
            "12/12 [==============================] - 1s 60ms/step - loss: 0.0083 - mae: 0.0639 - val_loss: 0.0068 - val_mae: 0.0607\n",
            "Epoch 79/100\n",
            "12/12 [==============================] - 1s 58ms/step - loss: 0.0081 - mae: 0.0633 - val_loss: 0.0067 - val_mae: 0.0610\n",
            "Epoch 80/100\n",
            "12/12 [==============================] - 1s 60ms/step - loss: 0.0077 - mae: 0.0625 - val_loss: 0.0067 - val_mae: 0.0604\n",
            "Epoch 81/100\n",
            "12/12 [==============================] - 1s 56ms/step - loss: 0.0079 - mae: 0.0634 - val_loss: 0.0067 - val_mae: 0.0605\n",
            "Epoch 82/100\n",
            "12/12 [==============================] - 1s 61ms/step - loss: 0.0080 - mae: 0.0638 - val_loss: 0.0068 - val_mae: 0.0607\n",
            "Epoch 83/100\n",
            "11/12 [==========================>...] - ETA: 0s - loss: 0.0087 - mae: 0.0661"
          ]
        },
        {
          "metadata": {
            "tags": null
          },
          "name": "stderr",
          "output_type": "stream",
          "text": [
            "WARNING:absl:Found untraced functions such as lstm_cell_layer_call_fn, lstm_cell_layer_call_and_return_conditional_losses while saving (showing 2 of 2). These functions will not be directly callable after loading.\n",
            "WARNING:absl:<keras.layers.recurrent.LSTMCell object at 0x7fb7acb4c8d0> has the same name 'LSTMCell' as a built-in Keras object. Consider renaming <class 'keras.layers.recurrent.LSTMCell'> to avoid naming conflicts when loading with `tf.keras.models.load_model`. If renaming is not possible, pass the object in the `custom_objects` parameter of the load function.\n",
            "WARNING:absl:<keras.layers.recurrent.LSTMCell object at 0x7fb7acb36990> has the same name 'LSTMCell' as a built-in Keras object. Consider renaming <class 'keras.layers.recurrent.LSTMCell'> to avoid naming conflicts when loading with `tf.keras.models.load_model`. If renaming is not possible, pass the object in the `custom_objects` parameter of the load function.\n"
          ]
        },
        {
          "metadata": {
            "tags": null
          },
          "name": "stdout",
          "output_type": "stream",
          "text": [
            "12/12 [==============================] - 7s 612ms/step - loss: 0.0085 - mae: 0.0658 - val_loss: 0.0066 - val_mae: 0.0607\n",
            "Epoch 84/100\n",
            "12/12 [==============================] - 1s 62ms/step - loss: 0.0081 - mae: 0.0633 - val_loss: 0.0066 - val_mae: 0.0600\n",
            "Epoch 85/100\n",
            "11/12 [==========================>...] - ETA: 0s - loss: 0.0076 - mae: 0.0617"
          ]
        },
        {
          "metadata": {
            "tags": null
          },
          "name": "stderr",
          "output_type": "stream",
          "text": [
            "WARNING:absl:Found untraced functions such as lstm_cell_layer_call_fn, lstm_cell_layer_call_and_return_conditional_losses while saving (showing 2 of 2). These functions will not be directly callable after loading.\n",
            "WARNING:absl:<keras.layers.recurrent.LSTMCell object at 0x7fb7acb4c8d0> has the same name 'LSTMCell' as a built-in Keras object. Consider renaming <class 'keras.layers.recurrent.LSTMCell'> to avoid naming conflicts when loading with `tf.keras.models.load_model`. If renaming is not possible, pass the object in the `custom_objects` parameter of the load function.\n",
            "WARNING:absl:<keras.layers.recurrent.LSTMCell object at 0x7fb7acb36990> has the same name 'LSTMCell' as a built-in Keras object. Consider renaming <class 'keras.layers.recurrent.LSTMCell'> to avoid naming conflicts when loading with `tf.keras.models.load_model`. If renaming is not possible, pass the object in the `custom_objects` parameter of the load function.\n"
          ]
        },
        {
          "metadata": {
            "tags": null
          },
          "name": "stdout",
          "output_type": "stream",
          "text": [
            "12/12 [==============================] - 6s 578ms/step - loss: 0.0075 - mae: 0.0615 - val_loss: 0.0066 - val_mae: 0.0600\n",
            "Epoch 86/100\n",
            "12/12 [==============================] - ETA: 0s - loss: 0.0083 - mae: 0.0645"
          ]
        },
        {
          "metadata": {
            "tags": null
          },
          "name": "stderr",
          "output_type": "stream",
          "text": [
            "WARNING:absl:Found untraced functions such as lstm_cell_layer_call_fn, lstm_cell_layer_call_and_return_conditional_losses while saving (showing 2 of 2). These functions will not be directly callable after loading.\n",
            "WARNING:absl:<keras.layers.recurrent.LSTMCell object at 0x7fb7acb4c8d0> has the same name 'LSTMCell' as a built-in Keras object. Consider renaming <class 'keras.layers.recurrent.LSTMCell'> to avoid naming conflicts when loading with `tf.keras.models.load_model`. If renaming is not possible, pass the object in the `custom_objects` parameter of the load function.\n",
            "WARNING:absl:<keras.layers.recurrent.LSTMCell object at 0x7fb7acb36990> has the same name 'LSTMCell' as a built-in Keras object. Consider renaming <class 'keras.layers.recurrent.LSTMCell'> to avoid naming conflicts when loading with `tf.keras.models.load_model`. If renaming is not possible, pass the object in the `custom_objects` parameter of the load function.\n"
          ]
        },
        {
          "metadata": {
            "tags": null
          },
          "name": "stdout",
          "output_type": "stream",
          "text": [
            "12/12 [==============================] - 7s 631ms/step - loss: 0.0083 - mae: 0.0645 - val_loss: 0.0066 - val_mae: 0.0601\n",
            "Epoch 87/100\n",
            "12/12 [==============================] - 1s 57ms/step - loss: 0.0077 - mae: 0.0627 - val_loss: 0.0066 - val_mae: 0.0600\n",
            "Epoch 88/100\n",
            "12/12 [==============================] - 1s 57ms/step - loss: 0.0081 - mae: 0.0635 - val_loss: 0.0066 - val_mae: 0.0600\n",
            "Epoch 89/100\n",
            "11/12 [==========================>...] - ETA: 0s - loss: 0.0076 - mae: 0.0622"
          ]
        },
        {
          "metadata": {
            "tags": null
          },
          "name": "stderr",
          "output_type": "stream",
          "text": [
            "WARNING:absl:Found untraced functions such as lstm_cell_layer_call_fn, lstm_cell_layer_call_and_return_conditional_losses while saving (showing 2 of 2). These functions will not be directly callable after loading.\n",
            "WARNING:absl:<keras.layers.recurrent.LSTMCell object at 0x7fb7acb4c8d0> has the same name 'LSTMCell' as a built-in Keras object. Consider renaming <class 'keras.layers.recurrent.LSTMCell'> to avoid naming conflicts when loading with `tf.keras.models.load_model`. If renaming is not possible, pass the object in the `custom_objects` parameter of the load function.\n",
            "WARNING:absl:<keras.layers.recurrent.LSTMCell object at 0x7fb7acb36990> has the same name 'LSTMCell' as a built-in Keras object. Consider renaming <class 'keras.layers.recurrent.LSTMCell'> to avoid naming conflicts when loading with `tf.keras.models.load_model`. If renaming is not possible, pass the object in the `custom_objects` parameter of the load function.\n"
          ]
        },
        {
          "metadata": {
            "tags": null
          },
          "name": "stdout",
          "output_type": "stream",
          "text": [
            "12/12 [==============================] - 7s 612ms/step - loss: 0.0076 - mae: 0.0620 - val_loss: 0.0065 - val_mae: 0.0599\n",
            "Epoch 90/100\n",
            "11/12 [==========================>...] - ETA: 0s - loss: 0.0076 - mae: 0.0625"
          ]
        },
        {
          "metadata": {
            "tags": null
          },
          "name": "stderr",
          "output_type": "stream",
          "text": [
            "WARNING:absl:Found untraced functions such as lstm_cell_layer_call_fn, lstm_cell_layer_call_and_return_conditional_losses while saving (showing 2 of 2). These functions will not be directly callable after loading.\n",
            "WARNING:absl:<keras.layers.recurrent.LSTMCell object at 0x7fb7acb4c8d0> has the same name 'LSTMCell' as a built-in Keras object. Consider renaming <class 'keras.layers.recurrent.LSTMCell'> to avoid naming conflicts when loading with `tf.keras.models.load_model`. If renaming is not possible, pass the object in the `custom_objects` parameter of the load function.\n",
            "WARNING:absl:<keras.layers.recurrent.LSTMCell object at 0x7fb7acb36990> has the same name 'LSTMCell' as a built-in Keras object. Consider renaming <class 'keras.layers.recurrent.LSTMCell'> to avoid naming conflicts when loading with `tf.keras.models.load_model`. If renaming is not possible, pass the object in the `custom_objects` parameter of the load function.\n"
          ]
        },
        {
          "metadata": {
            "tags": null
          },
          "name": "stdout",
          "output_type": "stream",
          "text": [
            "12/12 [==============================] - 7s 615ms/step - loss: 0.0076 - mae: 0.0624 - val_loss: 0.0064 - val_mae: 0.0596\n",
            "Epoch 91/100\n",
            "12/12 [==============================] - 1s 57ms/step - loss: 0.0081 - mae: 0.0634 - val_loss: 0.0065 - val_mae: 0.0597\n",
            "Epoch 92/100\n",
            "12/12 [==============================] - 1s 61ms/step - loss: 0.0074 - mae: 0.0613 - val_loss: 0.0065 - val_mae: 0.0595\n",
            "Epoch 93/100\n",
            "12/12 [==============================] - 1s 59ms/step - loss: 0.0073 - mae: 0.0610 - val_loss: 0.0064 - val_mae: 0.0592\n",
            "Epoch 94/100\n",
            "11/12 [==========================>...] - ETA: 0s - loss: 0.0079 - mae: 0.0621"
          ]
        },
        {
          "metadata": {
            "tags": null
          },
          "name": "stderr",
          "output_type": "stream",
          "text": [
            "WARNING:absl:Found untraced functions such as lstm_cell_layer_call_fn, lstm_cell_layer_call_and_return_conditional_losses while saving (showing 2 of 2). These functions will not be directly callable after loading.\n",
            "WARNING:absl:<keras.layers.recurrent.LSTMCell object at 0x7fb7acb4c8d0> has the same name 'LSTMCell' as a built-in Keras object. Consider renaming <class 'keras.layers.recurrent.LSTMCell'> to avoid naming conflicts when loading with `tf.keras.models.load_model`. If renaming is not possible, pass the object in the `custom_objects` parameter of the load function.\n",
            "WARNING:absl:<keras.layers.recurrent.LSTMCell object at 0x7fb7acb36990> has the same name 'LSTMCell' as a built-in Keras object. Consider renaming <class 'keras.layers.recurrent.LSTMCell'> to avoid naming conflicts when loading with `tf.keras.models.load_model`. If renaming is not possible, pass the object in the `custom_objects` parameter of the load function.\n"
          ]
        },
        {
          "metadata": {
            "tags": null
          },
          "name": "stdout",
          "output_type": "stream",
          "text": [
            "12/12 [==============================] - 6s 572ms/step - loss: 0.0079 - mae: 0.0622 - val_loss: 0.0063 - val_mae: 0.0592\n",
            "Epoch 95/100\n",
            "12/12 [==============================] - 1s 63ms/step - loss: 0.0077 - mae: 0.0627 - val_loss: 0.0063 - val_mae: 0.0591\n",
            "Epoch 96/100\n",
            "12/12 [==============================] - 1s 61ms/step - loss: 0.0075 - mae: 0.0627 - val_loss: 0.0064 - val_mae: 0.0588\n",
            "Epoch 97/100\n",
            "12/12 [==============================] - ETA: 0s - loss: 0.0077 - mae: 0.0614"
          ]
        },
        {
          "metadata": {
            "tags": null
          },
          "name": "stderr",
          "output_type": "stream",
          "text": [
            "WARNING:absl:Found untraced functions such as lstm_cell_layer_call_fn, lstm_cell_layer_call_and_return_conditional_losses while saving (showing 2 of 2). These functions will not be directly callable after loading.\n",
            "WARNING:absl:<keras.layers.recurrent.LSTMCell object at 0x7fb7acb4c8d0> has the same name 'LSTMCell' as a built-in Keras object. Consider renaming <class 'keras.layers.recurrent.LSTMCell'> to avoid naming conflicts when loading with `tf.keras.models.load_model`. If renaming is not possible, pass the object in the `custom_objects` parameter of the load function.\n",
            "WARNING:absl:<keras.layers.recurrent.LSTMCell object at 0x7fb7acb36990> has the same name 'LSTMCell' as a built-in Keras object. Consider renaming <class 'keras.layers.recurrent.LSTMCell'> to avoid naming conflicts when loading with `tf.keras.models.load_model`. If renaming is not possible, pass the object in the `custom_objects` parameter of the load function.\n"
          ]
        },
        {
          "metadata": {
            "tags": null
          },
          "name": "stdout",
          "output_type": "stream",
          "text": [
            "12/12 [==============================] - 7s 648ms/step - loss: 0.0077 - mae: 0.0614 - val_loss: 0.0063 - val_mae: 0.0594\n",
            "Epoch 98/100\n",
            "12/12 [==============================] - 1s 57ms/step - loss: 0.0080 - mae: 0.0642 - val_loss: 0.0064 - val_mae: 0.0591\n",
            "Epoch 99/100\n",
            "12/12 [==============================] - 1s 57ms/step - loss: 0.0081 - mae: 0.0645 - val_loss: 0.0064 - val_mae: 0.0590\n",
            "Epoch 100/100\n",
            "11/12 [==========================>...] - ETA: 0s - loss: 0.0078 - mae: 0.0621"
          ]
        },
        {
          "metadata": {
            "tags": null
          },
          "name": "stderr",
          "output_type": "stream",
          "text": [
            "WARNING:absl:Found untraced functions such as lstm_cell_layer_call_fn, lstm_cell_layer_call_and_return_conditional_losses while saving (showing 2 of 2). These functions will not be directly callable after loading.\n",
            "WARNING:absl:<keras.layers.recurrent.LSTMCell object at 0x7fb7acb4c8d0> has the same name 'LSTMCell' as a built-in Keras object. Consider renaming <class 'keras.layers.recurrent.LSTMCell'> to avoid naming conflicts when loading with `tf.keras.models.load_model`. If renaming is not possible, pass the object in the `custom_objects` parameter of the load function.\n",
            "WARNING:absl:<keras.layers.recurrent.LSTMCell object at 0x7fb7acb36990> has the same name 'LSTMCell' as a built-in Keras object. Consider renaming <class 'keras.layers.recurrent.LSTMCell'> to avoid naming conflicts when loading with `tf.keras.models.load_model`. If renaming is not possible, pass the object in the `custom_objects` parameter of the load function.\n"
          ]
        },
        {
          "output_type": "stream",
          "name": "stdout",
          "text": [
            "12/12 [==============================] - 7s 617ms/step - loss: 0.0076 - mae: 0.0617 - val_loss: 0.0061 - val_mae: 0.0587\n",
            "Loading Saved lstm Model....\n",
            "Saving lstm Model Configs...\n",
            "Building Dataset......\n",
            "Prediction lookback (n_past) = 11\n",
            "Prediction horizon (n_future) = 1\n",
            "Batch size  (batch_size) = 142\n",
            "Epoch 1/100\n",
            "12/12 [==============================] - 2s 140ms/step - loss: 0.0560 - mae: 0.1798 - val_loss: 0.0441 - val_mae: 0.1532\n",
            "Epoch 2/100\n",
            "12/12 [==============================] - 1s 127ms/step - loss: 0.0328 - mae: 0.1319 - val_loss: 0.0259 - val_mae: 0.1191\n",
            "Epoch 3/100\n",
            "12/12 [==============================] - 2s 129ms/step - loss: 0.0224 - mae: 0.1137 - val_loss: 0.0186 - val_mae: 0.1063\n",
            "Epoch 4/100\n",
            "12/12 [==============================] - 2s 130ms/step - loss: 0.0191 - mae: 0.1066 - val_loss: 0.0151 - val_mae: 0.0972\n",
            "Epoch 5/100\n",
            "12/12 [==============================] - 1s 126ms/step - loss: 0.0174 - mae: 0.1011 - val_loss: 0.0131 - val_mae: 0.0872\n",
            "Epoch 6/100\n",
            "12/12 [==============================] - 2s 166ms/step - loss: 0.0150 - mae: 0.0916 - val_loss: 0.0115 - val_mae: 0.0802\n",
            "Epoch 7/100\n",
            "12/12 [==============================] - 2s 128ms/step - loss: 0.0137 - mae: 0.0866 - val_loss: 0.0099 - val_mae: 0.0746\n",
            "Epoch 8/100\n",
            "12/12 [==============================] - 2s 127ms/step - loss: 0.0124 - mae: 0.0833 - val_loss: 0.0089 - val_mae: 0.0709\n",
            "Epoch 9/100\n",
            "12/12 [==============================] - 2s 129ms/step - loss: 0.0108 - mae: 0.0781 - val_loss: 0.0083 - val_mae: 0.0684\n",
            "Epoch 10/100\n",
            "12/12 [==============================] - 2s 132ms/step - loss: 0.0105 - mae: 0.0766 - val_loss: 0.0082 - val_mae: 0.0666\n",
            "Epoch 11/100\n",
            "12/12 [==============================] - 2s 131ms/step - loss: 0.0111 - mae: 0.0769 - val_loss: 0.0080 - val_mae: 0.0657\n",
            "Epoch 12/100\n",
            "12/12 [==============================] - 2s 168ms/step - loss: 0.0109 - mae: 0.0762 - val_loss: 0.0077 - val_mae: 0.0648\n",
            "Epoch 13/100\n",
            "12/12 [==============================] - 0s 32ms/step - loss: 0.0102 - mae: 0.0742 - val_loss: 0.0077 - val_mae: 0.0644\n",
            "Epoch 14/100\n",
            "12/12 [==============================] - 0s 31ms/step - loss: 0.0107 - mae: 0.0746 - val_loss: 0.0077 - val_mae: 0.0643\n",
            "Epoch 15/100\n",
            "12/12 [==============================] - 2s 143ms/step - loss: 0.0097 - mae: 0.0714 - val_loss: 0.0074 - val_mae: 0.0637\n",
            "Epoch 16/100\n",
            "12/12 [==============================] - 0s 31ms/step - loss: 0.0096 - mae: 0.0714 - val_loss: 0.0075 - val_mae: 0.0633\n",
            "Epoch 17/100\n",
            "12/12 [==============================] - 2s 135ms/step - loss: 0.0095 - mae: 0.0712 - val_loss: 0.0073 - val_mae: 0.0628\n",
            "Epoch 18/100\n",
            "12/12 [==============================] - 2s 129ms/step - loss: 0.0095 - mae: 0.0711 - val_loss: 0.0072 - val_mae: 0.0625\n",
            "Epoch 19/100\n",
            "12/12 [==============================] - 0s 30ms/step - loss: 0.0086 - mae: 0.0671 - val_loss: 0.0072 - val_mae: 0.0623\n",
            "Epoch 20/100\n",
            "12/12 [==============================] - 0s 32ms/step - loss: 0.0089 - mae: 0.0676 - val_loss: 0.0072 - val_mae: 0.0623\n",
            "Epoch 21/100\n",
            "12/12 [==============================] - 0s 32ms/step - loss: 0.0091 - mae: 0.0687 - val_loss: 0.0072 - val_mae: 0.0623\n",
            "Epoch 22/100\n",
            "12/12 [==============================] - 2s 131ms/step - loss: 0.0087 - mae: 0.0667 - val_loss: 0.0070 - val_mae: 0.0618\n",
            "Epoch 23/100\n",
            "12/12 [==============================] - 1s 47ms/step - loss: 0.0090 - mae: 0.0683 - val_loss: 0.0072 - val_mae: 0.0619\n",
            "Epoch 24/100\n",
            "12/12 [==============================] - 0s 32ms/step - loss: 0.0092 - mae: 0.0682 - val_loss: 0.0072 - val_mae: 0.0619\n",
            "Epoch 25/100\n",
            "12/12 [==============================] - 1s 126ms/step - loss: 0.0087 - mae: 0.0675 - val_loss: 0.0070 - val_mae: 0.0615\n",
            "Epoch 26/100\n",
            "12/12 [==============================] - 0s 31ms/step - loss: 0.0086 - mae: 0.0684 - val_loss: 0.0071 - val_mae: 0.0617\n",
            "Epoch 27/100\n",
            "12/12 [==============================] - 0s 32ms/step - loss: 0.0087 - mae: 0.0668 - val_loss: 0.0070 - val_mae: 0.0616\n",
            "Epoch 28/100\n",
            "12/12 [==============================] - 2s 131ms/step - loss: 0.0085 - mae: 0.0665 - val_loss: 0.0069 - val_mae: 0.0613\n",
            "Epoch 29/100\n",
            "12/12 [==============================] - 2s 163ms/step - loss: 0.0086 - mae: 0.0665 - val_loss: 0.0068 - val_mae: 0.0608\n",
            "Epoch 30/100\n",
            "12/12 [==============================] - 1s 127ms/step - loss: 0.0080 - mae: 0.0654 - val_loss: 0.0067 - val_mae: 0.0603\n",
            "Epoch 31/100\n",
            "12/12 [==============================] - 0s 32ms/step - loss: 0.0082 - mae: 0.0644 - val_loss: 0.0071 - val_mae: 0.0611\n",
            "Epoch 32/100\n",
            "12/12 [==============================] - 0s 34ms/step - loss: 0.0083 - mae: 0.0641 - val_loss: 0.0069 - val_mae: 0.0608\n",
            "Epoch 33/100\n",
            "12/12 [==============================] - 2s 129ms/step - loss: 0.0082 - mae: 0.0667 - val_loss: 0.0067 - val_mae: 0.0604\n",
            "Epoch 34/100\n",
            "12/12 [==============================] - 0s 32ms/step - loss: 0.0077 - mae: 0.0628 - val_loss: 0.0070 - val_mae: 0.0607\n",
            "Epoch 35/100\n",
            "12/12 [==============================] - 2s 127ms/step - loss: 0.0085 - mae: 0.0669 - val_loss: 0.0066 - val_mae: 0.0600\n",
            "Epoch 36/100\n",
            "12/12 [==============================] - 0s 31ms/step - loss: 0.0076 - mae: 0.0629 - val_loss: 0.0068 - val_mae: 0.0602\n",
            "Epoch 37/100\n",
            "12/12 [==============================] - 2s 128ms/step - loss: 0.0077 - mae: 0.0630 - val_loss: 0.0065 - val_mae: 0.0596\n",
            "Epoch 38/100\n",
            "12/12 [==============================] - 1s 48ms/step - loss: 0.0076 - mae: 0.0621 - val_loss: 0.0068 - val_mae: 0.0602\n",
            "Epoch 39/100\n",
            "12/12 [==============================] - 0s 35ms/step - loss: 0.0077 - mae: 0.0625 - val_loss: 0.0066 - val_mae: 0.0598\n",
            "Epoch 40/100\n",
            "12/12 [==============================] - 0s 32ms/step - loss: 0.0080 - mae: 0.0639 - val_loss: 0.0066 - val_mae: 0.0597\n",
            "Epoch 41/100\n",
            "12/12 [==============================] - 0s 33ms/step - loss: 0.0073 - mae: 0.0610 - val_loss: 0.0065 - val_mae: 0.0595\n",
            "Epoch 42/100\n",
            "12/12 [==============================] - 2s 129ms/step - loss: 0.0075 - mae: 0.0610 - val_loss: 0.0065 - val_mae: 0.0593\n",
            "Epoch 43/100\n",
            "12/12 [==============================] - 2s 169ms/step - loss: 0.0074 - mae: 0.0604 - val_loss: 0.0064 - val_mae: 0.0589\n",
            "Epoch 44/100\n",
            "12/12 [==============================] - 1s 55ms/step - loss: 0.0075 - mae: 0.0627 - val_loss: 0.0065 - val_mae: 0.0592\n",
            "Epoch 45/100\n",
            "12/12 [==============================] - 2s 130ms/step - loss: 0.0070 - mae: 0.0601 - val_loss: 0.0063 - val_mae: 0.0587\n",
            "Epoch 46/100\n",
            "12/12 [==============================] - 1s 127ms/step - loss: 0.0068 - mae: 0.0596 - val_loss: 0.0063 - val_mae: 0.0584\n",
            "Epoch 47/100\n",
            "12/12 [==============================] - 0s 32ms/step - loss: 0.0074 - mae: 0.0616 - val_loss: 0.0063 - val_mae: 0.0584\n",
            "Epoch 48/100\n",
            "12/12 [==============================] - 0s 32ms/step - loss: 0.0071 - mae: 0.0601 - val_loss: 0.0063 - val_mae: 0.0584\n",
            "Epoch 49/100\n",
            "12/12 [==============================] - 2s 131ms/step - loss: 0.0069 - mae: 0.0608 - val_loss: 0.0062 - val_mae: 0.0580\n",
            "Epoch 50/100\n",
            "12/12 [==============================] - 2s 144ms/step - loss: 0.0070 - mae: 0.0594 - val_loss: 0.0061 - val_mae: 0.0579\n",
            "Epoch 51/100\n",
            "12/12 [==============================] - 0s 33ms/step - loss: 0.0074 - mae: 0.0606 - val_loss: 0.0065 - val_mae: 0.0587\n",
            "Epoch 52/100\n",
            "12/12 [==============================] - 2s 142ms/step - loss: 0.0071 - mae: 0.0601 - val_loss: 0.0060 - val_mae: 0.0575\n",
            "Epoch 53/100\n",
            "12/12 [==============================] - 0s 33ms/step - loss: 0.0069 - mae: 0.0601 - val_loss: 0.0063 - val_mae: 0.0583\n",
            "Epoch 54/100\n",
            "12/12 [==============================] - 2s 134ms/step - loss: 0.0067 - mae: 0.0596 - val_loss: 0.0058 - val_mae: 0.0570\n",
            "Epoch 55/100\n",
            "12/12 [==============================] - 0s 33ms/step - loss: 0.0069 - mae: 0.0591 - val_loss: 0.0064 - val_mae: 0.0583\n",
            "Epoch 56/100\n",
            "12/12 [==============================] - 0s 34ms/step - loss: 0.0068 - mae: 0.0592 - val_loss: 0.0060 - val_mae: 0.0574\n",
            "Epoch 57/100\n",
            "12/12 [==============================] - 0s 32ms/step - loss: 0.0069 - mae: 0.0595 - val_loss: 0.0060 - val_mae: 0.0573\n",
            "Epoch 58/100\n",
            "12/12 [==============================] - 0s 33ms/step - loss: 0.0068 - mae: 0.0583 - val_loss: 0.0061 - val_mae: 0.0575\n",
            "Epoch 59/100\n",
            "12/12 [==============================] - 0s 34ms/step - loss: 0.0066 - mae: 0.0578 - val_loss: 0.0060 - val_mae: 0.0571\n",
            "Epoch 60/100\n",
            "12/12 [==============================] - 0s 33ms/step - loss: 0.0071 - mae: 0.0593 - val_loss: 0.0059 - val_mae: 0.0569\n",
            "Epoch 61/100\n",
            "12/12 [==============================] - 0s 34ms/step - loss: 0.0069 - mae: 0.0588 - val_loss: 0.0060 - val_mae: 0.0571\n",
            "Epoch 62/100\n",
            "12/12 [==============================] - 0s 31ms/step - loss: 0.0066 - mae: 0.0579 - val_loss: 0.0060 - val_mae: 0.0570\n",
            "Epoch 63/100\n",
            "12/12 [==============================] - 0s 31ms/step - loss: 0.0071 - mae: 0.0589 - val_loss: 0.0060 - val_mae: 0.0571\n",
            "Epoch 64/100\n",
            "12/12 [==============================] - 0s 33ms/step - loss: 0.0067 - mae: 0.0581 - val_loss: 0.0060 - val_mae: 0.0568\n",
            "Epoch 65/100\n",
            "12/12 [==============================] - 2s 175ms/step - loss: 0.0065 - mae: 0.0571 - val_loss: 0.0057 - val_mae: 0.0562\n",
            "Epoch 66/100\n",
            "12/12 [==============================] - 0s 33ms/step - loss: 0.0067 - mae: 0.0575 - val_loss: 0.0062 - val_mae: 0.0573\n",
            "Epoch 67/100\n",
            "12/12 [==============================] - 0s 34ms/step - loss: 0.0065 - mae: 0.0569 - val_loss: 0.0058 - val_mae: 0.0565\n",
            "Epoch 68/100\n",
            "12/12 [==============================] - 0s 33ms/step - loss: 0.0063 - mae: 0.0562 - val_loss: 0.0058 - val_mae: 0.0563\n",
            "Epoch 69/100\n",
            "12/12 [==============================] - 2s 128ms/step - loss: 0.0062 - mae: 0.0557 - val_loss: 0.0057 - val_mae: 0.0560\n",
            "Epoch 70/100\n",
            "12/12 [==============================] - 1s 47ms/step - loss: 0.0064 - mae: 0.0570 - val_loss: 0.0060 - val_mae: 0.0569\n",
            "Epoch 71/100\n",
            "12/12 [==============================] - 0s 31ms/step - loss: 0.0067 - mae: 0.0589 - val_loss: 0.0059 - val_mae: 0.0568\n",
            "Epoch 72/100\n",
            "12/12 [==============================] - 1s 127ms/step - loss: 0.0063 - mae: 0.0570 - val_loss: 0.0056 - val_mae: 0.0559\n",
            "Epoch 73/100\n",
            "12/12 [==============================] - 0s 31ms/step - loss: 0.0064 - mae: 0.0572 - val_loss: 0.0058 - val_mae: 0.0561\n",
            "Epoch 74/100\n",
            "12/12 [==============================] - 0s 35ms/step - loss: 0.0059 - mae: 0.0552 - val_loss: 0.0058 - val_mae: 0.0561\n",
            "Epoch 75/100\n",
            "12/12 [==============================] - 0s 32ms/step - loss: 0.0062 - mae: 0.0565 - val_loss: 0.0058 - val_mae: 0.0563\n",
            "Epoch 76/100\n",
            "12/12 [==============================] - 0s 32ms/step - loss: 0.0063 - mae: 0.0566 - val_loss: 0.0057 - val_mae: 0.0560\n",
            "Epoch 77/100\n",
            "12/12 [==============================] - 1s 48ms/step - loss: 0.0064 - mae: 0.0560 - val_loss: 0.0058 - val_mae: 0.0560\n",
            "Epoch 78/100\n",
            "12/12 [==============================] - 0s 32ms/step - loss: 0.0062 - mae: 0.0558 - val_loss: 0.0058 - val_mae: 0.0560\n",
            "Epoch 79/100\n",
            "12/12 [==============================] - 0s 34ms/step - loss: 0.0065 - mae: 0.0562 - val_loss: 0.0058 - val_mae: 0.0561\n",
            "Epoch 80/100\n",
            "12/12 [==============================] - 0s 35ms/step - loss: 0.0063 - mae: 0.0568 - val_loss: 0.0058 - val_mae: 0.0561\n",
            "Epoch 81/100\n",
            "12/12 [==============================] - 0s 30ms/step - loss: 0.0062 - mae: 0.0561 - val_loss: 0.0058 - val_mae: 0.0560\n",
            "Epoch 82/100\n",
            "12/12 [==============================] - 0s 34ms/step - loss: 0.0062 - mae: 0.0559 - val_loss: 0.0058 - val_mae: 0.0561\n",
            "Epoch 83/100\n",
            "12/12 [==============================] - 2s 131ms/step - loss: 0.0064 - mae: 0.0561 - val_loss: 0.0055 - val_mae: 0.0552\n",
            "Epoch 84/100\n",
            "12/12 [==============================] - 0s 33ms/step - loss: 0.0060 - mae: 0.0556 - val_loss: 0.0057 - val_mae: 0.0556\n",
            "Epoch 85/100\n",
            "12/12 [==============================] - 0s 33ms/step - loss: 0.0061 - mae: 0.0557 - val_loss: 0.0056 - val_mae: 0.0553\n",
            "Epoch 86/100\n",
            "12/12 [==============================] - 0s 31ms/step - loss: 0.0061 - mae: 0.0556 - val_loss: 0.0057 - val_mae: 0.0554\n",
            "Epoch 87/100\n",
            "12/12 [==============================] - 1s 47ms/step - loss: 0.0062 - mae: 0.0558 - val_loss: 0.0055 - val_mae: 0.0551\n",
            "Epoch 88/100\n",
            "12/12 [==============================] - 0s 34ms/step - loss: 0.0063 - mae: 0.0567 - val_loss: 0.0058 - val_mae: 0.0559\n",
            "Epoch 89/100\n",
            "12/12 [==============================] - 0s 33ms/step - loss: 0.0063 - mae: 0.0554 - val_loss: 0.0056 - val_mae: 0.0554\n",
            "Epoch 90/100\n",
            "12/12 [==============================] - 1s 48ms/step - loss: 0.0062 - mae: 0.0562 - val_loss: 0.0055 - val_mae: 0.0551\n",
            "Epoch 91/100\n",
            "12/12 [==============================] - 0s 33ms/step - loss: 0.0064 - mae: 0.0563 - val_loss: 0.0055 - val_mae: 0.0551\n",
            "Epoch 92/100\n",
            "12/12 [==============================] - 0s 34ms/step - loss: 0.0061 - mae: 0.0554 - val_loss: 0.0058 - val_mae: 0.0557\n",
            "Epoch 93/100\n",
            "12/12 [==============================] - 0s 31ms/step - loss: 0.0059 - mae: 0.0539 - val_loss: 0.0057 - val_mae: 0.0556\n",
            "Epoch 94/100\n",
            "12/12 [==============================] - 2s 130ms/step - loss: 0.0057 - mae: 0.0541 - val_loss: 0.0054 - val_mae: 0.0547\n",
            "Epoch 95/100\n",
            "12/12 [==============================] - 0s 33ms/step - loss: 0.0061 - mae: 0.0553 - val_loss: 0.0055 - val_mae: 0.0546\n",
            "Epoch 96/100\n",
            "12/12 [==============================] - 2s 132ms/step - loss: 0.0063 - mae: 0.0555 - val_loss: 0.0054 - val_mae: 0.0542\n",
            "Epoch 97/100\n",
            "12/12 [==============================] - 0s 34ms/step - loss: 0.0060 - mae: 0.0548 - val_loss: 0.0055 - val_mae: 0.0547\n",
            "Epoch 98/100\n",
            "12/12 [==============================] - 0s 35ms/step - loss: 0.0060 - mae: 0.0542 - val_loss: 0.0054 - val_mae: 0.0545\n",
            "Epoch 99/100\n",
            "12/12 [==============================] - 1s 49ms/step - loss: 0.0057 - mae: 0.0542 - val_loss: 0.0056 - val_mae: 0.0551\n",
            "Epoch 100/100\n",
            "12/12 [==============================] - 2s 132ms/step - loss: 0.0058 - mae: 0.0538 - val_loss: 0.0053 - val_mae: 0.0541\n",
            "Loading Saved cnn Model....\n",
            "Saving cnn Model Configs...\n"
          ]
        },
        {
          "output_type": "execute_result",
          "data": {
            "text/plain": [
              "<PrefetchDataset element_spec=(TensorSpec(shape=(None, None, 2), dtype=tf.float64, name=None), TensorSpec(shape=(None, None, 1), dtype=tf.float64, name=None))>"
            ]
          },
          "metadata": {},
          "execution_count": 23
        }
      ],
      "source": [
        "model_configs=dict()\n",
        "run_model('dnn', dnn_model, model_configs, epochs=100)\n",
        "run_model('lstm', lstm_model, model_configs, epochs=100)\n",
        "run_model('cnn', cnn_model, model_configs, epochs=100)"
      ]
    },
    {
      "cell_type": "code",
      "execution_count": 25,
      "id": "03756d44",
      "metadata": {
        "colab": {
          "base_uri": "https://localhost:8080/",
          "height": 292
        },
        "id": "03756d44",
        "outputId": "527d7be1-9be4-4d97-ef86-0f9acc4bb4a1"
      },
      "outputs": [
        {
          "output_type": "stream",
          "name": "stdout",
          "text": [
            "Loss Curves\n"
          ]
        },
        {
          "output_type": "display_data",
          "data": {
            "text/plain": [
              "<Figure size 1800x360 with 3 Axes>"
            ],
            "image/png": "[encoded data removed]"
          },
          "metadata": {
            "needs_background": "light"
          }
        }
      ],
      "source": [
        "legend = list()\n",
        "\n",
        "fig, axs = plt.subplots(1, 3, figsize=(25,5))\n",
        "\n",
        "def plot_graphs(metric, val, ax, upper):\n",
        "    ax.plot(val['history'].history[metric])\n",
        "    ax.plot(val['history'].history[f'val_{metric}'])\n",
        "    ax.set_title(key)\n",
        "    ax.legend([metric, f\"val_{metric}\"])\n",
        "    ax.set_xlabel('epochs')\n",
        "    ax.set_ylabel(metric)\n",
        "    ax.set_ylim([0, upper])\n",
        "    \n",
        "for (key, val), ax in zip(model_configs.items(), axs.flatten()):\n",
        "    plot_graphs('loss', val, ax, 0.2)\n",
        "print(\"Loss Curves\")"
      ]
    },
    {
      "cell_type": "code",
      "execution_count": 26,
      "id": "04fa1c55",
      "metadata": {
        "colab": {
          "base_uri": "https://localhost:8080/",
          "height": 294
        },
        "id": "04fa1c55",
        "outputId": "af39ed6c-41ce-4c97-ba5f-dd4e88563ddb"
      },
      "outputs": [
        {
          "output_type": "stream",
          "name": "stdout",
          "text": [
            "MAE Curves\n"
          ]
        },
        {
          "output_type": "display_data",
          "data": {
            "text/plain": [
              "<Figure size 1800x360 with 3 Axes>"
            ],
            "image/png": "[encoded data removed]"
          },
          "metadata": {
            "needs_background": "light"
          }
        }
      ],
      "source": [
        "print(\"MAE Curves\")\n",
        "fig, axs = plt.subplots(1, 3, figsize=(25,5))\n",
        "for (key, val), ax in zip(model_configs.items(), axs.flatten()):\n",
        "    plot_graphs('mae', val, ax, 0.6)"
      ]
    },
    {
      "cell_type": "code",
      "execution_count": 27,
      "id": "9ee2d668",
      "metadata": {
        "colab": {
          "base_uri": "https://localhost:8080/"
        },
        "id": "9ee2d668",
        "outputId": "404f3c97-9afa-4ca5-8b8c-f57a24686b60"
      },
      "outputs": [
        {
          "output_type": "stream",
          "name": "stdout",
          "text": [
            "5/5 [==============================] - 0s 11ms/step - loss: 0.0052 - mae: 0.0526\n",
            "5/5 [==============================] - 1s 18ms/step - loss: 0.0051 - mae: 0.0537\n",
            "5/5 [==============================] - 0s 10ms/step - loss: 0.0043 - mae: 0.0476\n",
            "           mae  error_mw\n",
            "dnn   0.052581  4.336917\n",
            "lstm  0.053688  4.428223\n",
            "cnn   0.047619  3.927669\n"
          ]
        }
      ],
      "source": [
        "names = list()\n",
        "performance = list()\n",
        "\n",
        "for key, value in model_configs.items():\n",
        "    names.append(key)\n",
        "    mae = value['model'].evaluate(value['test_ds'])\n",
        "    performance.append(mae[1])\n",
        "    \n",
        "performance_df = pd.DataFrame(performance, index=names, columns=['mae'])\n",
        "performance_df['error_mw'] = performance_df['mae'] * df['Monthly Mean Total Sunspot Number'].mean()\n",
        "print(performance_df)   "
      ]
    },
    {
      "cell_type": "markdown",
      "source": [
        "The **cnn** performs  best on this task.\n",
        "\n",
        "\n",
        "Yet **dnn** although quite simple but reveals to be very efficient for this task.\n",
        "simple approachs can be sometimes just very uselfull\n"
      ],
      "metadata": {
        "id": "G81aeG7UN2wf"
      },
      "id": "G81aeG7UN2wf"
    },
    {
      "cell_type": "code",
      "execution_count": null,
      "id": "31c654d6",
      "metadata": {
        "id": "31c654d6"
      },
      "outputs": [],
      "source": []
    },
    {
      "cell_type": "code",
      "execution_count": null,
      "id": "0959bf2d",
      "metadata": {
        "id": "0959bf2d"
      },
      "outputs": [],
      "source": []
    }
  ],
  "metadata": {
    "kernelspec": {
      "display_name": "Python 3 (ipykernel)",
      "language": "python",
      "name": "python3"
    },
    "language_info": {
      "codemirror_mode": {
        "name": "ipython",
        "version": 3
      },
      "file_extension": ".py",
      "mimetype": "text/x-python",
      "name": "python",
      "nbconvert_exporter": "python",
      "pygments_lexer": "ipython3",
      "version": "3.10.5"
    },
    "colab": {
      "provenance": []
    }
  },
  "nbformat": 4,
  "nbformat_minor": 5
}